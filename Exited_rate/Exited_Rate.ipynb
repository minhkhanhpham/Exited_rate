{
 "cells": [
  {
   "cell_type": "code",
   "execution_count": null,
   "id": "9d3f76b1",
   "metadata": {},
   "outputs": [],
   "source": [
    "Data Source: https://www.kaggle.com/datasets/shubh0799/churn-modelling"
   ]
  },
  {
   "cell_type": "code",
   "execution_count": 3,
   "id": "64764a20",
   "metadata": {},
   "outputs": [],
   "source": [
    "import pandas as pd\n",
    "import matplotlib.pyplot as plt\n",
    "import seaborn as sns"
   ]
  },
  {
   "cell_type": "code",
   "execution_count": 4,
   "id": "c132debc",
   "metadata": {},
   "outputs": [],
   "source": [
    "df=pd.read_csv('D:\\Churn_Modelling.csv')"
   ]
  },
  {
   "cell_type": "code",
   "execution_count": 5,
   "id": "997d7e77",
   "metadata": {},
   "outputs": [
    {
     "data": {
      "text/plain": [
       "(10000, 14)"
      ]
     },
     "execution_count": 5,
     "metadata": {},
     "output_type": "execute_result"
    }
   ],
   "source": [
    "df.shape"
   ]
  },
  {
   "cell_type": "code",
   "execution_count": 6,
   "id": "695c098b",
   "metadata": {},
   "outputs": [
    {
     "data": {
      "text/html": [
       "<div>\n",
       "<style scoped>\n",
       "    .dataframe tbody tr th:only-of-type {\n",
       "        vertical-align: middle;\n",
       "    }\n",
       "\n",
       "    .dataframe tbody tr th {\n",
       "        vertical-align: top;\n",
       "    }\n",
       "\n",
       "    .dataframe thead th {\n",
       "        text-align: right;\n",
       "    }\n",
       "</style>\n",
       "<table border=\"1\" class=\"dataframe\">\n",
       "  <thead>\n",
       "    <tr style=\"text-align: right;\">\n",
       "      <th></th>\n",
       "      <th>RowNumber</th>\n",
       "      <th>CustomerId</th>\n",
       "      <th>Surname</th>\n",
       "      <th>CreditScore</th>\n",
       "      <th>Geography</th>\n",
       "      <th>Gender</th>\n",
       "      <th>Age</th>\n",
       "      <th>Tenure</th>\n",
       "      <th>Balance</th>\n",
       "      <th>NumOfProducts</th>\n",
       "      <th>HasCrCard</th>\n",
       "      <th>IsActiveMember</th>\n",
       "      <th>EstimatedSalary</th>\n",
       "      <th>Exited</th>\n",
       "    </tr>\n",
       "  </thead>\n",
       "  <tbody>\n",
       "    <tr>\n",
       "      <th>0</th>\n",
       "      <td>1</td>\n",
       "      <td>15634602</td>\n",
       "      <td>Hargrave</td>\n",
       "      <td>619</td>\n",
       "      <td>France</td>\n",
       "      <td>Female</td>\n",
       "      <td>42</td>\n",
       "      <td>2</td>\n",
       "      <td>0.00</td>\n",
       "      <td>1</td>\n",
       "      <td>1</td>\n",
       "      <td>1</td>\n",
       "      <td>101348.88</td>\n",
       "      <td>1</td>\n",
       "    </tr>\n",
       "    <tr>\n",
       "      <th>1</th>\n",
       "      <td>2</td>\n",
       "      <td>15647311</td>\n",
       "      <td>Hill</td>\n",
       "      <td>608</td>\n",
       "      <td>Spain</td>\n",
       "      <td>Female</td>\n",
       "      <td>41</td>\n",
       "      <td>1</td>\n",
       "      <td>83807.86</td>\n",
       "      <td>1</td>\n",
       "      <td>0</td>\n",
       "      <td>1</td>\n",
       "      <td>112542.58</td>\n",
       "      <td>0</td>\n",
       "    </tr>\n",
       "    <tr>\n",
       "      <th>2</th>\n",
       "      <td>3</td>\n",
       "      <td>15619304</td>\n",
       "      <td>Onio</td>\n",
       "      <td>502</td>\n",
       "      <td>France</td>\n",
       "      <td>Female</td>\n",
       "      <td>42</td>\n",
       "      <td>8</td>\n",
       "      <td>159660.80</td>\n",
       "      <td>3</td>\n",
       "      <td>1</td>\n",
       "      <td>0</td>\n",
       "      <td>113931.57</td>\n",
       "      <td>1</td>\n",
       "    </tr>\n",
       "    <tr>\n",
       "      <th>3</th>\n",
       "      <td>4</td>\n",
       "      <td>15701354</td>\n",
       "      <td>Boni</td>\n",
       "      <td>699</td>\n",
       "      <td>France</td>\n",
       "      <td>Female</td>\n",
       "      <td>39</td>\n",
       "      <td>1</td>\n",
       "      <td>0.00</td>\n",
       "      <td>2</td>\n",
       "      <td>0</td>\n",
       "      <td>0</td>\n",
       "      <td>93826.63</td>\n",
       "      <td>0</td>\n",
       "    </tr>\n",
       "    <tr>\n",
       "      <th>4</th>\n",
       "      <td>5</td>\n",
       "      <td>15737888</td>\n",
       "      <td>Mitchell</td>\n",
       "      <td>850</td>\n",
       "      <td>Spain</td>\n",
       "      <td>Female</td>\n",
       "      <td>43</td>\n",
       "      <td>2</td>\n",
       "      <td>125510.82</td>\n",
       "      <td>1</td>\n",
       "      <td>1</td>\n",
       "      <td>1</td>\n",
       "      <td>79084.10</td>\n",
       "      <td>0</td>\n",
       "    </tr>\n",
       "  </tbody>\n",
       "</table>\n",
       "</div>"
      ],
      "text/plain": [
       "   RowNumber  CustomerId   Surname  CreditScore Geography  Gender  Age  \\\n",
       "0          1    15634602  Hargrave          619    France  Female   42   \n",
       "1          2    15647311      Hill          608     Spain  Female   41   \n",
       "2          3    15619304      Onio          502    France  Female   42   \n",
       "3          4    15701354      Boni          699    France  Female   39   \n",
       "4          5    15737888  Mitchell          850     Spain  Female   43   \n",
       "\n",
       "   Tenure    Balance  NumOfProducts  HasCrCard  IsActiveMember  \\\n",
       "0       2       0.00              1          1               1   \n",
       "1       1   83807.86              1          0               1   \n",
       "2       8  159660.80              3          1               0   \n",
       "3       1       0.00              2          0               0   \n",
       "4       2  125510.82              1          1               1   \n",
       "\n",
       "   EstimatedSalary  Exited  \n",
       "0        101348.88       1  \n",
       "1        112542.58       0  \n",
       "2        113931.57       1  \n",
       "3         93826.63       0  \n",
       "4         79084.10       0  "
      ]
     },
     "execution_count": 6,
     "metadata": {},
     "output_type": "execute_result"
    }
   ],
   "source": [
    "df.head()"
   ]
  },
  {
   "cell_type": "code",
   "execution_count": 7,
   "id": "86976ea2",
   "metadata": {},
   "outputs": [],
   "source": [
    "df=df.drop(df.columns[0:2], axis=1)"
   ]
  },
  {
   "cell_type": "code",
   "execution_count": 8,
   "id": "8127470f",
   "metadata": {},
   "outputs": [
    {
     "name": "stdout",
     "output_type": "stream",
     "text": [
      "<class 'pandas.core.frame.DataFrame'>\n",
      "RangeIndex: 10000 entries, 0 to 9999\n",
      "Data columns (total 12 columns):\n",
      " #   Column           Non-Null Count  Dtype  \n",
      "---  ------           --------------  -----  \n",
      " 0   Surname          10000 non-null  object \n",
      " 1   CreditScore      10000 non-null  int64  \n",
      " 2   Geography        10000 non-null  object \n",
      " 3   Gender           10000 non-null  object \n",
      " 4   Age              10000 non-null  int64  \n",
      " 5   Tenure           10000 non-null  int64  \n",
      " 6   Balance          10000 non-null  float64\n",
      " 7   NumOfProducts    10000 non-null  int64  \n",
      " 8   HasCrCard        10000 non-null  int64  \n",
      " 9   IsActiveMember   10000 non-null  int64  \n",
      " 10  EstimatedSalary  10000 non-null  float64\n",
      " 11  Exited           10000 non-null  int64  \n",
      "dtypes: float64(2), int64(7), object(3)\n",
      "memory usage: 937.6+ KB\n"
     ]
    }
   ],
   "source": [
    "df.info()"
   ]
  },
  {
   "cell_type": "code",
   "execution_count": 9,
   "id": "cb3e60ed",
   "metadata": {},
   "outputs": [
    {
     "data": {
      "text/html": [
       "<div>\n",
       "<style scoped>\n",
       "    .dataframe tbody tr th:only-of-type {\n",
       "        vertical-align: middle;\n",
       "    }\n",
       "\n",
       "    .dataframe tbody tr th {\n",
       "        vertical-align: top;\n",
       "    }\n",
       "\n",
       "    .dataframe thead th {\n",
       "        text-align: right;\n",
       "    }\n",
       "</style>\n",
       "<table border=\"1\" class=\"dataframe\">\n",
       "  <thead>\n",
       "    <tr style=\"text-align: right;\">\n",
       "      <th></th>\n",
       "      <th>CreditScore</th>\n",
       "      <th>Age</th>\n",
       "      <th>Tenure</th>\n",
       "      <th>Balance</th>\n",
       "      <th>NumOfProducts</th>\n",
       "      <th>HasCrCard</th>\n",
       "      <th>IsActiveMember</th>\n",
       "      <th>EstimatedSalary</th>\n",
       "      <th>Exited</th>\n",
       "    </tr>\n",
       "  </thead>\n",
       "  <tbody>\n",
       "    <tr>\n",
       "      <th>count</th>\n",
       "      <td>10000.000000</td>\n",
       "      <td>10000.000000</td>\n",
       "      <td>10000.000000</td>\n",
       "      <td>10000.000000</td>\n",
       "      <td>10000.000000</td>\n",
       "      <td>10000.00000</td>\n",
       "      <td>10000.000000</td>\n",
       "      <td>10000.000000</td>\n",
       "      <td>10000.000000</td>\n",
       "    </tr>\n",
       "    <tr>\n",
       "      <th>mean</th>\n",
       "      <td>650.528800</td>\n",
       "      <td>38.921800</td>\n",
       "      <td>5.012800</td>\n",
       "      <td>76485.889288</td>\n",
       "      <td>1.530200</td>\n",
       "      <td>0.70550</td>\n",
       "      <td>0.515100</td>\n",
       "      <td>100090.239881</td>\n",
       "      <td>0.203700</td>\n",
       "    </tr>\n",
       "    <tr>\n",
       "      <th>std</th>\n",
       "      <td>96.653299</td>\n",
       "      <td>10.487806</td>\n",
       "      <td>2.892174</td>\n",
       "      <td>62397.405202</td>\n",
       "      <td>0.581654</td>\n",
       "      <td>0.45584</td>\n",
       "      <td>0.499797</td>\n",
       "      <td>57510.492818</td>\n",
       "      <td>0.402769</td>\n",
       "    </tr>\n",
       "    <tr>\n",
       "      <th>min</th>\n",
       "      <td>350.000000</td>\n",
       "      <td>18.000000</td>\n",
       "      <td>0.000000</td>\n",
       "      <td>0.000000</td>\n",
       "      <td>1.000000</td>\n",
       "      <td>0.00000</td>\n",
       "      <td>0.000000</td>\n",
       "      <td>11.580000</td>\n",
       "      <td>0.000000</td>\n",
       "    </tr>\n",
       "    <tr>\n",
       "      <th>25%</th>\n",
       "      <td>584.000000</td>\n",
       "      <td>32.000000</td>\n",
       "      <td>3.000000</td>\n",
       "      <td>0.000000</td>\n",
       "      <td>1.000000</td>\n",
       "      <td>0.00000</td>\n",
       "      <td>0.000000</td>\n",
       "      <td>51002.110000</td>\n",
       "      <td>0.000000</td>\n",
       "    </tr>\n",
       "    <tr>\n",
       "      <th>50%</th>\n",
       "      <td>652.000000</td>\n",
       "      <td>37.000000</td>\n",
       "      <td>5.000000</td>\n",
       "      <td>97198.540000</td>\n",
       "      <td>1.000000</td>\n",
       "      <td>1.00000</td>\n",
       "      <td>1.000000</td>\n",
       "      <td>100193.915000</td>\n",
       "      <td>0.000000</td>\n",
       "    </tr>\n",
       "    <tr>\n",
       "      <th>75%</th>\n",
       "      <td>718.000000</td>\n",
       "      <td>44.000000</td>\n",
       "      <td>7.000000</td>\n",
       "      <td>127644.240000</td>\n",
       "      <td>2.000000</td>\n",
       "      <td>1.00000</td>\n",
       "      <td>1.000000</td>\n",
       "      <td>149388.247500</td>\n",
       "      <td>0.000000</td>\n",
       "    </tr>\n",
       "    <tr>\n",
       "      <th>max</th>\n",
       "      <td>850.000000</td>\n",
       "      <td>92.000000</td>\n",
       "      <td>10.000000</td>\n",
       "      <td>250898.090000</td>\n",
       "      <td>4.000000</td>\n",
       "      <td>1.00000</td>\n",
       "      <td>1.000000</td>\n",
       "      <td>199992.480000</td>\n",
       "      <td>1.000000</td>\n",
       "    </tr>\n",
       "  </tbody>\n",
       "</table>\n",
       "</div>"
      ],
      "text/plain": [
       "        CreditScore           Age        Tenure        Balance  NumOfProducts  \\\n",
       "count  10000.000000  10000.000000  10000.000000   10000.000000   10000.000000   \n",
       "mean     650.528800     38.921800      5.012800   76485.889288       1.530200   \n",
       "std       96.653299     10.487806      2.892174   62397.405202       0.581654   \n",
       "min      350.000000     18.000000      0.000000       0.000000       1.000000   \n",
       "25%      584.000000     32.000000      3.000000       0.000000       1.000000   \n",
       "50%      652.000000     37.000000      5.000000   97198.540000       1.000000   \n",
       "75%      718.000000     44.000000      7.000000  127644.240000       2.000000   \n",
       "max      850.000000     92.000000     10.000000  250898.090000       4.000000   \n",
       "\n",
       "         HasCrCard  IsActiveMember  EstimatedSalary        Exited  \n",
       "count  10000.00000    10000.000000     10000.000000  10000.000000  \n",
       "mean       0.70550        0.515100    100090.239881      0.203700  \n",
       "std        0.45584        0.499797     57510.492818      0.402769  \n",
       "min        0.00000        0.000000        11.580000      0.000000  \n",
       "25%        0.00000        0.000000     51002.110000      0.000000  \n",
       "50%        1.00000        1.000000    100193.915000      0.000000  \n",
       "75%        1.00000        1.000000    149388.247500      0.000000  \n",
       "max        1.00000        1.000000    199992.480000      1.000000  "
      ]
     },
     "execution_count": 9,
     "metadata": {},
     "output_type": "execute_result"
    }
   ],
   "source": [
    "df.describe()"
   ]
  },
  {
   "cell_type": "code",
   "execution_count": 10,
   "id": "d762fb3d",
   "metadata": {},
   "outputs": [],
   "source": [
    "df=df.drop(df.columns[0], axis=1)"
   ]
  },
  {
   "cell_type": "code",
   "execution_count": 11,
   "id": "1a0009bd",
   "metadata": {},
   "outputs": [
    {
     "data": {
      "text/html": [
       "<div>\n",
       "<style scoped>\n",
       "    .dataframe tbody tr th:only-of-type {\n",
       "        vertical-align: middle;\n",
       "    }\n",
       "\n",
       "    .dataframe tbody tr th {\n",
       "        vertical-align: top;\n",
       "    }\n",
       "\n",
       "    .dataframe thead th {\n",
       "        text-align: right;\n",
       "    }\n",
       "</style>\n",
       "<table border=\"1\" class=\"dataframe\">\n",
       "  <thead>\n",
       "    <tr style=\"text-align: right;\">\n",
       "      <th></th>\n",
       "      <th>CreditScore</th>\n",
       "      <th>Geography</th>\n",
       "      <th>Gender</th>\n",
       "      <th>Age</th>\n",
       "      <th>Tenure</th>\n",
       "      <th>Balance</th>\n",
       "      <th>NumOfProducts</th>\n",
       "      <th>HasCrCard</th>\n",
       "      <th>IsActiveMember</th>\n",
       "      <th>EstimatedSalary</th>\n",
       "      <th>Exited</th>\n",
       "    </tr>\n",
       "  </thead>\n",
       "  <tbody>\n",
       "    <tr>\n",
       "      <th>0</th>\n",
       "      <td>619</td>\n",
       "      <td>France</td>\n",
       "      <td>Female</td>\n",
       "      <td>42</td>\n",
       "      <td>2</td>\n",
       "      <td>0.00</td>\n",
       "      <td>1</td>\n",
       "      <td>1</td>\n",
       "      <td>1</td>\n",
       "      <td>101348.88</td>\n",
       "      <td>1</td>\n",
       "    </tr>\n",
       "    <tr>\n",
       "      <th>1</th>\n",
       "      <td>608</td>\n",
       "      <td>Spain</td>\n",
       "      <td>Female</td>\n",
       "      <td>41</td>\n",
       "      <td>1</td>\n",
       "      <td>83807.86</td>\n",
       "      <td>1</td>\n",
       "      <td>0</td>\n",
       "      <td>1</td>\n",
       "      <td>112542.58</td>\n",
       "      <td>0</td>\n",
       "    </tr>\n",
       "    <tr>\n",
       "      <th>2</th>\n",
       "      <td>502</td>\n",
       "      <td>France</td>\n",
       "      <td>Female</td>\n",
       "      <td>42</td>\n",
       "      <td>8</td>\n",
       "      <td>159660.80</td>\n",
       "      <td>3</td>\n",
       "      <td>1</td>\n",
       "      <td>0</td>\n",
       "      <td>113931.57</td>\n",
       "      <td>1</td>\n",
       "    </tr>\n",
       "    <tr>\n",
       "      <th>3</th>\n",
       "      <td>699</td>\n",
       "      <td>France</td>\n",
       "      <td>Female</td>\n",
       "      <td>39</td>\n",
       "      <td>1</td>\n",
       "      <td>0.00</td>\n",
       "      <td>2</td>\n",
       "      <td>0</td>\n",
       "      <td>0</td>\n",
       "      <td>93826.63</td>\n",
       "      <td>0</td>\n",
       "    </tr>\n",
       "    <tr>\n",
       "      <th>4</th>\n",
       "      <td>850</td>\n",
       "      <td>Spain</td>\n",
       "      <td>Female</td>\n",
       "      <td>43</td>\n",
       "      <td>2</td>\n",
       "      <td>125510.82</td>\n",
       "      <td>1</td>\n",
       "      <td>1</td>\n",
       "      <td>1</td>\n",
       "      <td>79084.10</td>\n",
       "      <td>0</td>\n",
       "    </tr>\n",
       "  </tbody>\n",
       "</table>\n",
       "</div>"
      ],
      "text/plain": [
       "   CreditScore Geography  Gender  Age  Tenure    Balance  NumOfProducts  \\\n",
       "0          619    France  Female   42       2       0.00              1   \n",
       "1          608     Spain  Female   41       1   83807.86              1   \n",
       "2          502    France  Female   42       8  159660.80              3   \n",
       "3          699    France  Female   39       1       0.00              2   \n",
       "4          850     Spain  Female   43       2  125510.82              1   \n",
       "\n",
       "   HasCrCard  IsActiveMember  EstimatedSalary  Exited  \n",
       "0          1               1        101348.88       1  \n",
       "1          0               1        112542.58       0  \n",
       "2          1               0        113931.57       1  \n",
       "3          0               0         93826.63       0  \n",
       "4          1               1         79084.10       0  "
      ]
     },
     "execution_count": 11,
     "metadata": {},
     "output_type": "execute_result"
    }
   ],
   "source": [
    "df.head()"
   ]
  },
  {
   "cell_type": "code",
   "execution_count": 12,
   "id": "f6ff8b18",
   "metadata": {},
   "outputs": [
    {
     "name": "stdout",
     "output_type": "stream",
     "text": [
      "CreditScore : 460\n",
      "Geography : 3\n",
      "Gender : 2\n",
      "Age : 70\n",
      "Tenure : 11\n",
      "Balance : 6382\n",
      "NumOfProducts : 4\n",
      "HasCrCard : 2\n",
      "IsActiveMember : 2\n",
      "EstimatedSalary : 9999\n",
      "Exited : 2\n"
     ]
    }
   ],
   "source": [
    "for i in df.columns:\n",
    "    print(i, ':', len(df[i].value_counts()))"
   ]
  },
  {
   "cell_type": "markdown",
   "id": "702248a1",
   "metadata": {},
   "source": [
    "# Geography"
   ]
  },
  {
   "cell_type": "code",
   "execution_count": 13,
   "id": "efc66aab",
   "metadata": {},
   "outputs": [
    {
     "data": {
      "text/plain": [
       "Geography\n",
       "France     5014\n",
       "Germany    2509\n",
       "Spain      2477\n",
       "Name: Exited, dtype: int64"
      ]
     },
     "execution_count": 13,
     "metadata": {},
     "output_type": "execute_result"
    }
   ],
   "source": [
    "##Số người tham gia khảo sát theo quốc gia\n",
    "df_geo=df.groupby(by='Geography').count()['Exited']\n",
    "df_geo"
   ]
  },
  {
   "cell_type": "markdown",
   "id": "2addcdcd",
   "metadata": {},
   "source": [
    "Pháp là nước có số lượng tham gia khảo sát nhiều nhất"
   ]
  },
  {
   "cell_type": "code",
   "execution_count": 14,
   "id": "92f7ce8c",
   "metadata": {},
   "outputs": [
    {
     "data": {
      "text/plain": [
       "Geography\n",
       "France     810\n",
       "Germany    814\n",
       "Spain      413\n",
       "Name: Exited, dtype: int64"
      ]
     },
     "execution_count": 14,
     "metadata": {},
     "output_type": "execute_result"
    }
   ],
   "source": [
    "##Số người rời bỏ sd dịch vụ theo quốc gia\n",
    "df_exited=df[df.Exited==1].groupby(by='Geography').count()['Exited']\n",
    "df_exited"
   ]
  },
  {
   "cell_type": "markdown",
   "id": "dbc311d0",
   "metadata": {},
   "source": [
    "Đức có số lượng người rời bỏ cao nhất."
   ]
  },
  {
   "cell_type": "code",
   "execution_count": 15,
   "id": "df3fe55d",
   "metadata": {},
   "outputs": [
    {
     "data": {
      "text/plain": [
       "Geography\n",
       "France     0.161548\n",
       "Germany    0.324432\n",
       "Spain      0.166734\n",
       "Name: Exited, dtype: float64"
      ]
     },
     "execution_count": 15,
     "metadata": {},
     "output_type": "execute_result"
    }
   ],
   "source": [
    "##tỷ lệ rời bỏ\n",
    "Ratio=df_exited/df_geo\n",
    "Ratio"
   ]
  },
  {
   "cell_type": "markdown",
   "id": "52db8e60",
   "metadata": {},
   "source": [
    "Đức là nước có tỷ lệ rời bỏ cao nhất"
   ]
  },
  {
   "cell_type": "code",
   "execution_count": 16,
   "id": "490c0939",
   "metadata": {},
   "outputs": [
    {
     "data": {
      "text/plain": [
       "Geography\n",
       "France      62092.636516\n",
       "Germany    119730.116134\n",
       "Spain       61818.147763\n",
       "dtype: float64"
      ]
     },
     "execution_count": 16,
     "metadata": {},
     "output_type": "execute_result"
    }
   ],
   "source": [
    "##số dư trung bình\n",
    "df_bal=df.groupby(by='Geography').sum()['Balance']\n",
    "bal = df_bal/df_geo\n",
    "bal"
   ]
  },
  {
   "cell_type": "markdown",
   "id": "bead0829",
   "metadata": {},
   "source": [
    "Đức có tỷ lệ exited cao nhất và số dư trung bình cao nhất nên có thể nói rằng, số dư trong tài khoản không ảnh hưởng đến việc ngừng sử dụng dịch vụ của khách hàng."
   ]
  },
  {
   "cell_type": "code",
   "execution_count": 17,
   "id": "0bdf1542",
   "metadata": {},
   "outputs": [
    {
     "data": {
      "text/html": [
       "<div>\n",
       "<style scoped>\n",
       "    .dataframe tbody tr th:only-of-type {\n",
       "        vertical-align: middle;\n",
       "    }\n",
       "\n",
       "    .dataframe tbody tr th {\n",
       "        vertical-align: top;\n",
       "    }\n",
       "\n",
       "    .dataframe thead th {\n",
       "        text-align: right;\n",
       "    }\n",
       "</style>\n",
       "<table border=\"1\" class=\"dataframe\">\n",
       "  <thead>\n",
       "    <tr style=\"text-align: right;\">\n",
       "      <th></th>\n",
       "      <th>Geography</th>\n",
       "      <th>Gender</th>\n",
       "      <th>Exited</th>\n",
       "      <th>Count</th>\n",
       "    </tr>\n",
       "  </thead>\n",
       "  <tbody>\n",
       "    <tr>\n",
       "      <th>1</th>\n",
       "      <td>France</td>\n",
       "      <td>Female</td>\n",
       "      <td>1</td>\n",
       "      <td>460</td>\n",
       "    </tr>\n",
       "    <tr>\n",
       "      <th>3</th>\n",
       "      <td>France</td>\n",
       "      <td>Male</td>\n",
       "      <td>1</td>\n",
       "      <td>350</td>\n",
       "    </tr>\n",
       "    <tr>\n",
       "      <th>5</th>\n",
       "      <td>Germany</td>\n",
       "      <td>Female</td>\n",
       "      <td>1</td>\n",
       "      <td>448</td>\n",
       "    </tr>\n",
       "    <tr>\n",
       "      <th>7</th>\n",
       "      <td>Germany</td>\n",
       "      <td>Male</td>\n",
       "      <td>1</td>\n",
       "      <td>366</td>\n",
       "    </tr>\n",
       "    <tr>\n",
       "      <th>9</th>\n",
       "      <td>Spain</td>\n",
       "      <td>Female</td>\n",
       "      <td>1</td>\n",
       "      <td>231</td>\n",
       "    </tr>\n",
       "    <tr>\n",
       "      <th>11</th>\n",
       "      <td>Spain</td>\n",
       "      <td>Male</td>\n",
       "      <td>1</td>\n",
       "      <td>182</td>\n",
       "    </tr>\n",
       "  </tbody>\n",
       "</table>\n",
       "</div>"
      ],
      "text/plain": [
       "   Geography  Gender  Exited  Count\n",
       "1     France  Female       1    460\n",
       "3     France    Male       1    350\n",
       "5    Germany  Female       1    448\n",
       "7    Germany    Male       1    366\n",
       "9      Spain  Female       1    231\n",
       "11     Spain    Male       1    182"
      ]
     },
     "execution_count": 17,
     "metadata": {},
     "output_type": "execute_result"
    }
   ],
   "source": [
    "df_geogen=df.groupby(by=['Geography','Gender','Exited']).agg('count')\n",
    "df_geogen=df_geogen.rename(columns={\"CreditScore\":\"Count\"})\n",
    "df_gengen=df_geogen.reset_index(inplace=True, drop=False)\n",
    "df_geogen=df_geogen[df_geogen['Exited']==1].iloc[:,:4]\n",
    "df_geogen"
   ]
  },
  {
   "cell_type": "code",
   "execution_count": 18,
   "id": "d2261b62",
   "metadata": {},
   "outputs": [
    {
     "data": {
      "text/html": [
       "<div>\n",
       "<style scoped>\n",
       "    .dataframe tbody tr th:only-of-type {\n",
       "        vertical-align: middle;\n",
       "    }\n",
       "\n",
       "    .dataframe tbody tr th {\n",
       "        vertical-align: top;\n",
       "    }\n",
       "\n",
       "    .dataframe thead th {\n",
       "        text-align: right;\n",
       "    }\n",
       "</style>\n",
       "<table border=\"1\" class=\"dataframe\">\n",
       "  <thead>\n",
       "    <tr style=\"text-align: right;\">\n",
       "      <th></th>\n",
       "      <th>Geography</th>\n",
       "      <th>Gender</th>\n",
       "      <th>Exited</th>\n",
       "      <th>Count</th>\n",
       "      <th>Geogen</th>\n",
       "    </tr>\n",
       "  </thead>\n",
       "  <tbody>\n",
       "    <tr>\n",
       "      <th>1</th>\n",
       "      <td>France</td>\n",
       "      <td>Female</td>\n",
       "      <td>1</td>\n",
       "      <td>460</td>\n",
       "      <td>France-Female</td>\n",
       "    </tr>\n",
       "    <tr>\n",
       "      <th>3</th>\n",
       "      <td>France</td>\n",
       "      <td>Male</td>\n",
       "      <td>1</td>\n",
       "      <td>350</td>\n",
       "      <td>France-Male</td>\n",
       "    </tr>\n",
       "    <tr>\n",
       "      <th>5</th>\n",
       "      <td>Germany</td>\n",
       "      <td>Female</td>\n",
       "      <td>1</td>\n",
       "      <td>448</td>\n",
       "      <td>Germany-Female</td>\n",
       "    </tr>\n",
       "    <tr>\n",
       "      <th>7</th>\n",
       "      <td>Germany</td>\n",
       "      <td>Male</td>\n",
       "      <td>1</td>\n",
       "      <td>366</td>\n",
       "      <td>Germany-Male</td>\n",
       "    </tr>\n",
       "    <tr>\n",
       "      <th>9</th>\n",
       "      <td>Spain</td>\n",
       "      <td>Female</td>\n",
       "      <td>1</td>\n",
       "      <td>231</td>\n",
       "      <td>Spain-Female</td>\n",
       "    </tr>\n",
       "    <tr>\n",
       "      <th>11</th>\n",
       "      <td>Spain</td>\n",
       "      <td>Male</td>\n",
       "      <td>1</td>\n",
       "      <td>182</td>\n",
       "      <td>Spain-Male</td>\n",
       "    </tr>\n",
       "  </tbody>\n",
       "</table>\n",
       "</div>"
      ],
      "text/plain": [
       "   Geography  Gender  Exited  Count          Geogen\n",
       "1     France  Female       1    460   France-Female\n",
       "3     France    Male       1    350     France-Male\n",
       "5    Germany  Female       1    448  Germany-Female\n",
       "7    Germany    Male       1    366    Germany-Male\n",
       "9      Spain  Female       1    231    Spain-Female\n",
       "11     Spain    Male       1    182      Spain-Male"
      ]
     },
     "execution_count": 18,
     "metadata": {},
     "output_type": "execute_result"
    }
   ],
   "source": [
    "df_geogen['Geogen']=df_geogen['Geography']+'-'+ df_geogen['Gender']\n",
    "df_geogen"
   ]
  },
  {
   "cell_type": "code",
   "execution_count": 19,
   "id": "d9e23627",
   "metadata": {
    "scrolled": true
   },
   "outputs": [
    {
     "data": {
      "image/png": "[encoded data removed]",
      "text/plain": [
       "<Figure size 432x288 with 1 Axes>"
      ]
     },
     "metadata": {},
     "output_type": "display_data"
    }
   ],
   "source": [
    "my_labels=df_geogen['Geogen']\n",
    "my_data=df_geogen['Count']\n",
    "plt.pie(my_data, labels=my_labels, autopct='%1.1f%%')\n",
    "plt.title('My Title')\n",
    "plt.axis('equal')\n",
    "plt.show()"
   ]
  },
  {
   "cell_type": "markdown",
   "id": "fa222295",
   "metadata": {},
   "source": [
    "Có thể thấy, ở cả 3 quốc gia, tỷ lệ nữ giới rời bỏ đều cao hơn nam giới cho thấy nữ giới có xu hướng rời bỏ sử dụng dịch vụ cao hơn nam giới. Trong đó, nữ giới ở Pháp có tỷ lệ rời bỏ cao nhất, sau đó đến Đức. Ở nam giới, tỷ lệ rời bỏ của Đức lại ở mức cao hơn."
   ]
  },
  {
   "cell_type": "markdown",
   "id": "363abae4",
   "metadata": {},
   "source": [
    "# Age"
   ]
  },
  {
   "cell_type": "code",
   "execution_count": 20,
   "id": "b0e46443",
   "metadata": {},
   "outputs": [
    {
     "data": {
      "text/html": [
       "<div>\n",
       "<style scoped>\n",
       "    .dataframe tbody tr th:only-of-type {\n",
       "        vertical-align: middle;\n",
       "    }\n",
       "\n",
       "    .dataframe tbody tr th {\n",
       "        vertical-align: top;\n",
       "    }\n",
       "\n",
       "    .dataframe thead th {\n",
       "        text-align: right;\n",
       "    }\n",
       "</style>\n",
       "<table border=\"1\" class=\"dataframe\">\n",
       "  <thead>\n",
       "    <tr style=\"text-align: right;\">\n",
       "      <th></th>\n",
       "      <th>Age</th>\n",
       "      <th>Inexited</th>\n",
       "      <th>Exited</th>\n",
       "      <th>Ratio</th>\n",
       "    </tr>\n",
       "  </thead>\n",
       "  <tbody>\n",
       "    <tr>\n",
       "      <th>0</th>\n",
       "      <td>18</td>\n",
       "      <td>20</td>\n",
       "      <td>2.0</td>\n",
       "      <td>9.090909</td>\n",
       "    </tr>\n",
       "    <tr>\n",
       "      <th>1</th>\n",
       "      <td>19</td>\n",
       "      <td>26</td>\n",
       "      <td>1.0</td>\n",
       "      <td>3.703704</td>\n",
       "    </tr>\n",
       "    <tr>\n",
       "      <th>2</th>\n",
       "      <td>20</td>\n",
       "      <td>38</td>\n",
       "      <td>2.0</td>\n",
       "      <td>5.000000</td>\n",
       "    </tr>\n",
       "    <tr>\n",
       "      <th>3</th>\n",
       "      <td>21</td>\n",
       "      <td>50</td>\n",
       "      <td>3.0</td>\n",
       "      <td>5.660377</td>\n",
       "    </tr>\n",
       "    <tr>\n",
       "      <th>4</th>\n",
       "      <td>22</td>\n",
       "      <td>72</td>\n",
       "      <td>12.0</td>\n",
       "      <td>14.285714</td>\n",
       "    </tr>\n",
       "    <tr>\n",
       "      <th>...</th>\n",
       "      <td>...</td>\n",
       "      <td>...</td>\n",
       "      <td>...</td>\n",
       "      <td>...</td>\n",
       "    </tr>\n",
       "    <tr>\n",
       "      <th>65</th>\n",
       "      <td>83</td>\n",
       "      <td>1</td>\n",
       "      <td>0.0</td>\n",
       "      <td>0.000000</td>\n",
       "    </tr>\n",
       "    <tr>\n",
       "      <th>66</th>\n",
       "      <td>84</td>\n",
       "      <td>1</td>\n",
       "      <td>1.0</td>\n",
       "      <td>50.000000</td>\n",
       "    </tr>\n",
       "    <tr>\n",
       "      <th>67</th>\n",
       "      <td>85</td>\n",
       "      <td>1</td>\n",
       "      <td>0.0</td>\n",
       "      <td>0.000000</td>\n",
       "    </tr>\n",
       "    <tr>\n",
       "      <th>68</th>\n",
       "      <td>88</td>\n",
       "      <td>1</td>\n",
       "      <td>0.0</td>\n",
       "      <td>0.000000</td>\n",
       "    </tr>\n",
       "    <tr>\n",
       "      <th>69</th>\n",
       "      <td>92</td>\n",
       "      <td>2</td>\n",
       "      <td>0.0</td>\n",
       "      <td>0.000000</td>\n",
       "    </tr>\n",
       "  </tbody>\n",
       "</table>\n",
       "<p>70 rows × 4 columns</p>\n",
       "</div>"
      ],
      "text/plain": [
       "    Age  Inexited  Exited      Ratio\n",
       "0    18        20     2.0   9.090909\n",
       "1    19        26     1.0   3.703704\n",
       "2    20        38     2.0   5.000000\n",
       "3    21        50     3.0   5.660377\n",
       "4    22        72    12.0  14.285714\n",
       "..  ...       ...     ...        ...\n",
       "65   83         1     0.0   0.000000\n",
       "66   84         1     1.0  50.000000\n",
       "67   85         1     0.0   0.000000\n",
       "68   88         1     0.0   0.000000\n",
       "69   92         2     0.0   0.000000\n",
       "\n",
       "[70 rows x 4 columns]"
      ]
     },
     "execution_count": 20,
     "metadata": {},
     "output_type": "execute_result"
    }
   ],
   "source": [
    "##Tỷ lệ rời bỏ theo độ tuổi\n",
    "df_inex = df[df['Exited']==0][['Age', 'Exited']]\n",
    "df_inex=df_inex.rename(columns={'Exited':'Inexited'})\n",
    "df_inex_age=df_inex.groupby('Age').agg('count')\n",
    "df_inex_age.reset_index(drop=False, inplace=True)\n",
    "\n",
    "df_ex= df[df['Exited']==1][['Age', 'Exited']]\n",
    "df_ex_age=df_ex.groupby(\"Age\").agg('count')\n",
    "df_ex_age.reset_index(drop=False,inplace=True)\n",
    "df_ex_age\n",
    "\n",
    "age_df=pd.merge(df_inex_age,df_ex_age, how='outer', left_on='Age', right_on='Age')\n",
    "age_df=age_df.fillna(value=0)\n",
    "age_df['Ratio']=age_df['Exited']/(age_df['Exited']+age_df['Inexited'])*100\n",
    "age_df"
   ]
  },
  {
   "cell_type": "code",
   "execution_count": 21,
   "id": "166725ad",
   "metadata": {},
   "outputs": [
    {
     "data": {
      "image/png": "[encoded data removed]",
      "text/plain": [
       "<Figure size 432x288 with 1 Axes>"
      ]
     },
     "metadata": {
      "needs_background": "light"
     },
     "output_type": "display_data"
    }
   ],
   "source": [
    "##Tỷ lệ rời bỏ theo độ tuổi\n",
    "fig = plt.figure()\n",
    "ax = fig.add_axes([0,0,1,1])\n",
    "x=age_df['Age']\n",
    "y=age_df['Ratio']\n",
    "ax.bar(x,y,color='g')\n",
    "plt.show()"
   ]
  },
  {
   "cell_type": "markdown",
   "id": "3a22d928",
   "metadata": {},
   "source": [
    "- Tuổi có tỷ lệ Exited cao nhất là 56, sau đó là 52.\n",
    "- Những người trong độ tuổi từ 45 đến 65 có tỷ lệ Exited cao, đều trên 30%.\n",
    "- Độ tuổi 84 có tỷ lệ rời bỏ là 50%, tuy nhiên khi xem lại dữ liệu, cho thấy chỉ có 1 người rời bỏ."
   ]
  },
  {
   "cell_type": "code",
   "execution_count": 22,
   "id": "892c1528",
   "metadata": {
    "scrolled": true
   },
   "outputs": [
    {
     "name": "stdout",
     "output_type": "stream",
     "text": [
      "France : 0.1888711607499003\n",
      "Spain : 0.20387565603552685\n",
      "Germany : 0.24870466321243523\n"
     ]
    }
   ],
   "source": [
    "##Tỷ lệ người trong độ tuổi 45-65 của mỗi quốc gia\n",
    "def age(geo):\n",
    "    return len(df[(df[\"Geography\"]==str(geo))&(df['Age']>=45)&(df['Age']<=65)])/len(df[df[\"Geography\"]==str(geo)])\n",
    "for i in df.Geography.unique():\n",
    "    print ( i,\":\", age(i))"
   ]
  },
  {
   "cell_type": "markdown",
   "id": "c60e2f47",
   "metadata": {},
   "source": [
    "Đức là nước có số lượng người trong độ tuổi 45-65 cao nhất, đây có thể là 1 trong những lí do khiến Đức có tỷ lệ rời bỏ cao nhất."
   ]
  },
  {
   "cell_type": "markdown",
   "id": "5627b016",
   "metadata": {},
   "source": [
    "# Tenure"
   ]
  },
  {
   "cell_type": "code",
   "execution_count": 23,
   "id": "efdeb1da",
   "metadata": {},
   "outputs": [
    {
     "data": {
      "text/html": [
       "<div>\n",
       "<style scoped>\n",
       "    .dataframe tbody tr th:only-of-type {\n",
       "        vertical-align: middle;\n",
       "    }\n",
       "\n",
       "    .dataframe tbody tr th {\n",
       "        vertical-align: top;\n",
       "    }\n",
       "\n",
       "    .dataframe thead th {\n",
       "        text-align: right;\n",
       "    }\n",
       "</style>\n",
       "<table border=\"1\" class=\"dataframe\">\n",
       "  <thead>\n",
       "    <tr style=\"text-align: right;\">\n",
       "      <th></th>\n",
       "      <th>Tenure</th>\n",
       "      <th>Exited</th>\n",
       "      <th>Inexited</th>\n",
       "      <th>ratio</th>\n",
       "    </tr>\n",
       "  </thead>\n",
       "  <tbody>\n",
       "    <tr>\n",
       "      <th>0</th>\n",
       "      <td>0</td>\n",
       "      <td>95</td>\n",
       "      <td>318</td>\n",
       "      <td>23.002421</td>\n",
       "    </tr>\n",
       "    <tr>\n",
       "      <th>1</th>\n",
       "      <td>1</td>\n",
       "      <td>232</td>\n",
       "      <td>803</td>\n",
       "      <td>22.415459</td>\n",
       "    </tr>\n",
       "    <tr>\n",
       "      <th>2</th>\n",
       "      <td>2</td>\n",
       "      <td>201</td>\n",
       "      <td>847</td>\n",
       "      <td>19.179389</td>\n",
       "    </tr>\n",
       "    <tr>\n",
       "      <th>3</th>\n",
       "      <td>3</td>\n",
       "      <td>213</td>\n",
       "      <td>796</td>\n",
       "      <td>21.110010</td>\n",
       "    </tr>\n",
       "    <tr>\n",
       "      <th>4</th>\n",
       "      <td>4</td>\n",
       "      <td>203</td>\n",
       "      <td>786</td>\n",
       "      <td>20.525784</td>\n",
       "    </tr>\n",
       "    <tr>\n",
       "      <th>5</th>\n",
       "      <td>5</td>\n",
       "      <td>209</td>\n",
       "      <td>803</td>\n",
       "      <td>20.652174</td>\n",
       "    </tr>\n",
       "    <tr>\n",
       "      <th>6</th>\n",
       "      <td>6</td>\n",
       "      <td>196</td>\n",
       "      <td>771</td>\n",
       "      <td>20.268873</td>\n",
       "    </tr>\n",
       "    <tr>\n",
       "      <th>7</th>\n",
       "      <td>7</td>\n",
       "      <td>177</td>\n",
       "      <td>851</td>\n",
       "      <td>17.217899</td>\n",
       "    </tr>\n",
       "    <tr>\n",
       "      <th>8</th>\n",
       "      <td>8</td>\n",
       "      <td>197</td>\n",
       "      <td>828</td>\n",
       "      <td>19.219512</td>\n",
       "    </tr>\n",
       "    <tr>\n",
       "      <th>9</th>\n",
       "      <td>9</td>\n",
       "      <td>213</td>\n",
       "      <td>771</td>\n",
       "      <td>21.646341</td>\n",
       "    </tr>\n",
       "    <tr>\n",
       "      <th>10</th>\n",
       "      <td>10</td>\n",
       "      <td>101</td>\n",
       "      <td>389</td>\n",
       "      <td>20.612245</td>\n",
       "    </tr>\n",
       "  </tbody>\n",
       "</table>\n",
       "</div>"
      ],
      "text/plain": [
       "    Tenure  Exited  Inexited      ratio\n",
       "0        0      95       318  23.002421\n",
       "1        1     232       803  22.415459\n",
       "2        2     201       847  19.179389\n",
       "3        3     213       796  21.110010\n",
       "4        4     203       786  20.525784\n",
       "5        5     209       803  20.652174\n",
       "6        6     196       771  20.268873\n",
       "7        7     177       851  17.217899\n",
       "8        8     197       828  19.219512\n",
       "9        9     213       771  21.646341\n",
       "10      10     101       389  20.612245"
      ]
     },
     "execution_count": 23,
     "metadata": {},
     "output_type": "execute_result"
    }
   ],
   "source": [
    "##Tỷ lệ rời bỏ theo số năm sử dụng dịch vụ\n",
    "df_ten_ex=df[df[\"Exited\"]==1].groupby('Tenure').agg('count')\n",
    "df_ten_ex.reset_index(inplace=True, drop=False)\n",
    "df_ten_ex=df_ten_ex[['Tenure','Exited']]\n",
    "\n",
    "df_ten_inex=df[df[\"Exited\"]==0].groupby('Tenure').agg('count')\n",
    "df_ten_inex.reset_index(inplace=True, drop=False)\n",
    "df_ten_inex=df_ten_inex[['Tenure','Exited']]\n",
    "df_ten_inex=df_ten_inex.rename(columns={'Exited':'Inexited'})\n",
    "\n",
    "df_ten=pd.merge(df_ten_ex,df_ten_inex, how='outer', left_on='Tenure', right_on='Tenure')\n",
    "df_ten['ratio']=df_ten['Exited']/(df_ten[\"Exited\"]+df_ten['Inexited'])*100\n",
    "df_ten"
   ]
  },
  {
   "cell_type": "code",
   "execution_count": 24,
   "id": "b0f9452e",
   "metadata": {},
   "outputs": [
    {
     "data": {
      "text/plain": [
       "<BarContainer object of 11 artists>"
      ]
     },
     "execution_count": 24,
     "metadata": {},
     "output_type": "execute_result"
    },
    {
     "data": {
      "image/png": "[encoded data removed]",
      "text/plain": [
       "<Figure size 432x288 with 1 Axes>"
      ]
     },
     "metadata": {
      "needs_background": "light"
     },
     "output_type": "display_data"
    }
   ],
   "source": [
    "tenure=df_ten['Tenure']\n",
    "ratio=df_ten['ratio']\n",
    "plt.bar(tenure,ratio,color='g')"
   ]
  },
  {
   "cell_type": "markdown",
   "id": "03622576",
   "metadata": {},
   "source": [
    "Có thể thấy, số năm sử dụng dịch vụ không ảnh hưởng quá nhiều đến tỷ lệ rời bỏ. Những người có từ 8-10 năm sử dụng dịch vụ vẫn có tỷ lệ từ bỏ không quá chênh lệch với những người có số năm sử dụng ít hơn."
   ]
  },
  {
   "cell_type": "code",
   "execution_count": 25,
   "id": "d4dbf4e9",
   "metadata": {
    "scrolled": false
   },
   "outputs": [
    {
     "data": {
      "text/html": [
       "<div>\n",
       "<style scoped>\n",
       "    .dataframe tbody tr th:only-of-type {\n",
       "        vertical-align: middle;\n",
       "    }\n",
       "\n",
       "    .dataframe tbody tr th {\n",
       "        vertical-align: top;\n",
       "    }\n",
       "\n",
       "    .dataframe thead th {\n",
       "        text-align: right;\n",
       "    }\n",
       "</style>\n",
       "<table border=\"1\" class=\"dataframe\">\n",
       "  <thead>\n",
       "    <tr style=\"text-align: right;\">\n",
       "      <th></th>\n",
       "      <th>Tenure</th>\n",
       "      <th>Exited</th>\n",
       "      <th>Inexited</th>\n",
       "      <th>ratio</th>\n",
       "    </tr>\n",
       "  </thead>\n",
       "  <tbody>\n",
       "    <tr>\n",
       "      <th>0</th>\n",
       "      <td>0</td>\n",
       "      <td>35</td>\n",
       "      <td>170</td>\n",
       "      <td>17.073171</td>\n",
       "    </tr>\n",
       "    <tr>\n",
       "      <th>1</th>\n",
       "      <td>1</td>\n",
       "      <td>83</td>\n",
       "      <td>446</td>\n",
       "      <td>15.689981</td>\n",
       "    </tr>\n",
       "    <tr>\n",
       "      <th>2</th>\n",
       "      <td>2</td>\n",
       "      <td>90</td>\n",
       "      <td>435</td>\n",
       "      <td>17.142857</td>\n",
       "    </tr>\n",
       "    <tr>\n",
       "      <th>3</th>\n",
       "      <td>3</td>\n",
       "      <td>83</td>\n",
       "      <td>408</td>\n",
       "      <td>16.904277</td>\n",
       "    </tr>\n",
       "    <tr>\n",
       "      <th>4</th>\n",
       "      <td>4</td>\n",
       "      <td>85</td>\n",
       "      <td>427</td>\n",
       "      <td>16.601562</td>\n",
       "    </tr>\n",
       "    <tr>\n",
       "      <th>5</th>\n",
       "      <td>5</td>\n",
       "      <td>76</td>\n",
       "      <td>409</td>\n",
       "      <td>15.670103</td>\n",
       "    </tr>\n",
       "    <tr>\n",
       "      <th>6</th>\n",
       "      <td>6</td>\n",
       "      <td>77</td>\n",
       "      <td>426</td>\n",
       "      <td>15.308151</td>\n",
       "    </tr>\n",
       "    <tr>\n",
       "      <th>7</th>\n",
       "      <td>7</td>\n",
       "      <td>76</td>\n",
       "      <td>476</td>\n",
       "      <td>13.768116</td>\n",
       "    </tr>\n",
       "    <tr>\n",
       "      <th>8</th>\n",
       "      <td>8</td>\n",
       "      <td>69</td>\n",
       "      <td>396</td>\n",
       "      <td>14.838710</td>\n",
       "    </tr>\n",
       "    <tr>\n",
       "      <th>9</th>\n",
       "      <td>9</td>\n",
       "      <td>88</td>\n",
       "      <td>416</td>\n",
       "      <td>17.460317</td>\n",
       "    </tr>\n",
       "    <tr>\n",
       "      <th>10</th>\n",
       "      <td>10</td>\n",
       "      <td>48</td>\n",
       "      <td>195</td>\n",
       "      <td>19.753086</td>\n",
       "    </tr>\n",
       "  </tbody>\n",
       "</table>\n",
       "</div>"
      ],
      "text/plain": [
       "    Tenure  Exited  Inexited      ratio\n",
       "0        0      35       170  17.073171\n",
       "1        1      83       446  15.689981\n",
       "2        2      90       435  17.142857\n",
       "3        3      83       408  16.904277\n",
       "4        4      85       427  16.601562\n",
       "5        5      76       409  15.670103\n",
       "6        6      77       426  15.308151\n",
       "7        7      76       476  13.768116\n",
       "8        8      69       396  14.838710\n",
       "9        9      88       416  17.460317\n",
       "10      10      48       195  19.753086"
      ]
     },
     "execution_count": 25,
     "metadata": {},
     "output_type": "execute_result"
    }
   ],
   "source": [
    "##tỷ lệ rời bỏ theo số năm sử dụng dịch vụ của nước Pháp\n",
    "df1=df[df[\"Geography\"]=='France']\n",
    "df1\n",
    "df_ten_ex_f=df1[df1[\"Exited\"]==1].groupby('Tenure').agg('count')\n",
    "df_ten_ex_f.reset_index(inplace=True, drop=False)\n",
    "df_ten_ex_f=df_ten_ex_f[['Tenure','Exited']]\n",
    "\n",
    "df_ten_inex_f=df1[df1[\"Exited\"]==0].groupby('Tenure').agg('count')\n",
    "df_ten_inex_f.reset_index(inplace=True, drop=False)\n",
    "df_ten_inex_f=df_ten_inex_f[['Tenure','Exited']]\n",
    "df_ten_inex_f=df_ten_inex_f.rename(columns={'Exited':'Inexited'})\n",
    "\n",
    "df_ten_f=pd.merge(df_ten_ex_f,df_ten_inex_f, how='outer', left_on='Tenure', right_on='Tenure')\n",
    "df_ten_f['ratio']=df_ten_f['Exited']/(df_ten_f[\"Exited\"]+df_ten_f['Inexited'])*100\n",
    "df_ten_f"
   ]
  },
  {
   "cell_type": "code",
   "execution_count": 26,
   "id": "225810d9",
   "metadata": {},
   "outputs": [
    {
     "data": {
      "text/plain": [
       "<BarContainer object of 11 artists>"
      ]
     },
     "execution_count": 26,
     "metadata": {},
     "output_type": "execute_result"
    },
    {
     "data": {
      "image/png": "[encoded data removed]",
      "text/plain": [
       "<Figure size 432x288 with 1 Axes>"
      ]
     },
     "metadata": {
      "needs_background": "light"
     },
     "output_type": "display_data"
    }
   ],
   "source": [
    "tenure1=df_ten_f['Tenure']\n",
    "ratio1=df_ten_f['ratio']\n",
    "plt.bar(tenure1,ratio1,color='g')"
   ]
  },
  {
   "cell_type": "code",
   "execution_count": 27,
   "id": "44a18afa",
   "metadata": {
    "scrolled": false
   },
   "outputs": [
    {
     "data": {
      "text/html": [
       "<div>\n",
       "<style scoped>\n",
       "    .dataframe tbody tr th:only-of-type {\n",
       "        vertical-align: middle;\n",
       "    }\n",
       "\n",
       "    .dataframe tbody tr th {\n",
       "        vertical-align: top;\n",
       "    }\n",
       "\n",
       "    .dataframe thead th {\n",
       "        text-align: right;\n",
       "    }\n",
       "</style>\n",
       "<table border=\"1\" class=\"dataframe\">\n",
       "  <thead>\n",
       "    <tr style=\"text-align: right;\">\n",
       "      <th></th>\n",
       "      <th>Tenure</th>\n",
       "      <th>Exited</th>\n",
       "      <th>Inexited</th>\n",
       "      <th>ratio</th>\n",
       "    </tr>\n",
       "  </thead>\n",
       "  <tbody>\n",
       "    <tr>\n",
       "      <th>0</th>\n",
       "      <td>0</td>\n",
       "      <td>36</td>\n",
       "      <td>170</td>\n",
       "      <td>17.475728</td>\n",
       "    </tr>\n",
       "    <tr>\n",
       "      <th>1</th>\n",
       "      <td>1</td>\n",
       "      <td>105</td>\n",
       "      <td>446</td>\n",
       "      <td>19.056261</td>\n",
       "    </tr>\n",
       "    <tr>\n",
       "      <th>2</th>\n",
       "      <td>2</td>\n",
       "      <td>64</td>\n",
       "      <td>435</td>\n",
       "      <td>12.825651</td>\n",
       "    </tr>\n",
       "    <tr>\n",
       "      <th>3</th>\n",
       "      <td>3</td>\n",
       "      <td>84</td>\n",
       "      <td>408</td>\n",
       "      <td>17.073171</td>\n",
       "    </tr>\n",
       "    <tr>\n",
       "      <th>4</th>\n",
       "      <td>4</td>\n",
       "      <td>76</td>\n",
       "      <td>427</td>\n",
       "      <td>15.109344</td>\n",
       "    </tr>\n",
       "    <tr>\n",
       "      <th>5</th>\n",
       "      <td>5</td>\n",
       "      <td>90</td>\n",
       "      <td>409</td>\n",
       "      <td>18.036072</td>\n",
       "    </tr>\n",
       "    <tr>\n",
       "      <th>6</th>\n",
       "      <td>6</td>\n",
       "      <td>76</td>\n",
       "      <td>426</td>\n",
       "      <td>15.139442</td>\n",
       "    </tr>\n",
       "    <tr>\n",
       "      <th>7</th>\n",
       "      <td>7</td>\n",
       "      <td>61</td>\n",
       "      <td>476</td>\n",
       "      <td>11.359404</td>\n",
       "    </tr>\n",
       "    <tr>\n",
       "      <th>8</th>\n",
       "      <td>8</td>\n",
       "      <td>87</td>\n",
       "      <td>396</td>\n",
       "      <td>18.012422</td>\n",
       "    </tr>\n",
       "    <tr>\n",
       "      <th>9</th>\n",
       "      <td>9</td>\n",
       "      <td>93</td>\n",
       "      <td>416</td>\n",
       "      <td>18.271120</td>\n",
       "    </tr>\n",
       "    <tr>\n",
       "      <th>10</th>\n",
       "      <td>10</td>\n",
       "      <td>42</td>\n",
       "      <td>195</td>\n",
       "      <td>17.721519</td>\n",
       "    </tr>\n",
       "  </tbody>\n",
       "</table>\n",
       "</div>"
      ],
      "text/plain": [
       "    Tenure  Exited  Inexited      ratio\n",
       "0        0      36       170  17.475728\n",
       "1        1     105       446  19.056261\n",
       "2        2      64       435  12.825651\n",
       "3        3      84       408  17.073171\n",
       "4        4      76       427  15.109344\n",
       "5        5      90       409  18.036072\n",
       "6        6      76       426  15.139442\n",
       "7        7      61       476  11.359404\n",
       "8        8      87       396  18.012422\n",
       "9        9      93       416  18.271120\n",
       "10      10      42       195  17.721519"
      ]
     },
     "execution_count": 27,
     "metadata": {},
     "output_type": "execute_result"
    }
   ],
   "source": [
    "##tỷ lệ rời bỏ theo số năm sử dụng dịch vụ của nước Đức\n",
    "df2=df[df[\"Geography\"]=='Germany']\n",
    "df2\n",
    "df_ten_ex_g=df2[df2[\"Exited\"]==1].groupby('Tenure').agg('count')\n",
    "df_ten_ex_g.reset_index(inplace=True, drop=False)\n",
    "df_ten_ex_g=df_ten_ex_g[['Tenure','Exited']]\n",
    "\n",
    "df_ten_inex_g=df2[df2[\"Exited\"]==0].groupby('Tenure').agg('count')\n",
    "df_ten_inex_g.reset_index(inplace=True, drop=False)\n",
    "df_ten_inex_g=df_ten_inex_g[['Tenure','Exited']]\n",
    "df_ten_inex_g=df_ten_inex_g.rename(columns={'Exited':'Inexited'})\n",
    "\n",
    "df_ten_g=pd.merge(df_ten_ex_g,df_ten_inex_f, how='outer', left_on='Tenure', right_on='Tenure')\n",
    "df_ten_g['ratio']=df_ten_g['Exited']/(df_ten_g[\"Exited\"]+df_ten_g['Inexited'])*100\n",
    "df_ten_g"
   ]
  },
  {
   "cell_type": "code",
   "execution_count": 28,
   "id": "123557f2",
   "metadata": {},
   "outputs": [
    {
     "data": {
      "text/plain": [
       "<BarContainer object of 11 artists>"
      ]
     },
     "execution_count": 28,
     "metadata": {},
     "output_type": "execute_result"
    },
    {
     "data": {
      "image/png": "[encoded data removed]",
      "text/plain": [
       "<Figure size 432x288 with 1 Axes>"
      ]
     },
     "metadata": {
      "needs_background": "light"
     },
     "output_type": "display_data"
    }
   ],
   "source": [
    "tenure2=df_ten_g['Tenure']\n",
    "ratio2=df_ten_g['ratio']\n",
    "plt.bar(tenure2,ratio2,color='g')"
   ]
  },
  {
   "cell_type": "code",
   "execution_count": 29,
   "id": "a978cb16",
   "metadata": {},
   "outputs": [
    {
     "data": {
      "text/html": [
       "<div>\n",
       "<style scoped>\n",
       "    .dataframe tbody tr th:only-of-type {\n",
       "        vertical-align: middle;\n",
       "    }\n",
       "\n",
       "    .dataframe tbody tr th {\n",
       "        vertical-align: top;\n",
       "    }\n",
       "\n",
       "    .dataframe thead th {\n",
       "        text-align: right;\n",
       "    }\n",
       "</style>\n",
       "<table border=\"1\" class=\"dataframe\">\n",
       "  <thead>\n",
       "    <tr style=\"text-align: right;\">\n",
       "      <th></th>\n",
       "      <th>Tenure</th>\n",
       "      <th>Exited</th>\n",
       "      <th>Inexited</th>\n",
       "      <th>ratio</th>\n",
       "    </tr>\n",
       "  </thead>\n",
       "  <tbody>\n",
       "    <tr>\n",
       "      <th>0</th>\n",
       "      <td>0</td>\n",
       "      <td>24</td>\n",
       "      <td>79</td>\n",
       "      <td>23.300971</td>\n",
       "    </tr>\n",
       "    <tr>\n",
       "      <th>1</th>\n",
       "      <td>1</td>\n",
       "      <td>44</td>\n",
       "      <td>198</td>\n",
       "      <td>18.181818</td>\n",
       "    </tr>\n",
       "    <tr>\n",
       "      <th>2</th>\n",
       "      <td>2</td>\n",
       "      <td>47</td>\n",
       "      <td>201</td>\n",
       "      <td>18.951613</td>\n",
       "    </tr>\n",
       "    <tr>\n",
       "      <th>3</th>\n",
       "      <td>3</td>\n",
       "      <td>46</td>\n",
       "      <td>211</td>\n",
       "      <td>17.898833</td>\n",
       "    </tr>\n",
       "    <tr>\n",
       "      <th>4</th>\n",
       "      <td>4</td>\n",
       "      <td>42</td>\n",
       "      <td>203</td>\n",
       "      <td>17.142857</td>\n",
       "    </tr>\n",
       "    <tr>\n",
       "      <th>5</th>\n",
       "      <td>5</td>\n",
       "      <td>43</td>\n",
       "      <td>225</td>\n",
       "      <td>16.044776</td>\n",
       "    </tr>\n",
       "    <tr>\n",
       "      <th>6</th>\n",
       "      <td>6</td>\n",
       "      <td>43</td>\n",
       "      <td>194</td>\n",
       "      <td>18.143460</td>\n",
       "    </tr>\n",
       "    <tr>\n",
       "      <th>7</th>\n",
       "      <td>7</td>\n",
       "      <td>40</td>\n",
       "      <td>211</td>\n",
       "      <td>15.936255</td>\n",
       "    </tr>\n",
       "    <tr>\n",
       "      <th>8</th>\n",
       "      <td>8</td>\n",
       "      <td>41</td>\n",
       "      <td>255</td>\n",
       "      <td>13.851351</td>\n",
       "    </tr>\n",
       "    <tr>\n",
       "      <th>9</th>\n",
       "      <td>9</td>\n",
       "      <td>32</td>\n",
       "      <td>179</td>\n",
       "      <td>15.165877</td>\n",
       "    </tr>\n",
       "    <tr>\n",
       "      <th>10</th>\n",
       "      <td>10</td>\n",
       "      <td>11</td>\n",
       "      <td>108</td>\n",
       "      <td>9.243697</td>\n",
       "    </tr>\n",
       "  </tbody>\n",
       "</table>\n",
       "</div>"
      ],
      "text/plain": [
       "    Tenure  Exited  Inexited      ratio\n",
       "0        0      24        79  23.300971\n",
       "1        1      44       198  18.181818\n",
       "2        2      47       201  18.951613\n",
       "3        3      46       211  17.898833\n",
       "4        4      42       203  17.142857\n",
       "5        5      43       225  16.044776\n",
       "6        6      43       194  18.143460\n",
       "7        7      40       211  15.936255\n",
       "8        8      41       255  13.851351\n",
       "9        9      32       179  15.165877\n",
       "10      10      11       108   9.243697"
      ]
     },
     "execution_count": 29,
     "metadata": {},
     "output_type": "execute_result"
    }
   ],
   "source": [
    "##tỷ lệ rời bỏ theo số năm sử dụng dịch vụ của nước TBN\n",
    "df3=df[df[\"Geography\"]=='Spain']\n",
    "df3\n",
    "df_ten_ex_s=df3[df3[\"Exited\"]==1].groupby('Tenure').agg('count')\n",
    "df_ten_ex_s.reset_index(inplace=True, drop=False)\n",
    "df_ten_ex_s=df_ten_ex_s[['Tenure','Exited']]\n",
    "df_ten_inex_s=df3[df3[\"Exited\"]==0].groupby('Tenure').agg('count')\n",
    "df_ten_inex_s.reset_index(inplace=True, drop=False)\n",
    "df_ten_inex_s=df_ten_inex_s[['Tenure','Exited']]\n",
    "df_ten_inex_s=df_ten_inex_s.rename(columns={'Exited':'Inexited'})\n",
    "df_ten_s=pd.merge(df_ten_ex_s,df_ten_inex_s, how='outer', left_on='Tenure', right_on='Tenure')\n",
    "df_ten_s['ratio']=df_ten_s['Exited']/(df_ten_s[\"Exited\"]+df_ten_s['Inexited'])*100\n",
    "df_ten_s"
   ]
  },
  {
   "cell_type": "code",
   "execution_count": 30,
   "id": "89f7c344",
   "metadata": {},
   "outputs": [
    {
     "data": {
      "text/plain": [
       "<BarContainer object of 11 artists>"
      ]
     },
     "execution_count": 30,
     "metadata": {},
     "output_type": "execute_result"
    },
    {
     "data": {
      "image/png": "[encoded data removed]",
      "text/plain": [
       "<Figure size 432x288 with 1 Axes>"
      ]
     },
     "metadata": {
      "needs_background": "light"
     },
     "output_type": "display_data"
    }
   ],
   "source": [
    "tenure3=df_ten_s['Tenure']\n",
    "ratio3=df_ten_s['ratio']\n",
    "plt.bar(tenure3,ratio3,color='g')"
   ]
  },
  {
   "cell_type": "markdown",
   "id": "5e66ab2b",
   "metadata": {},
   "source": [
    "Ở cả 3 quốc gia thì số năm sử dụng dịch vụ cao cũng không làm giảm tỷ lệ rời bỏ. Tuy nhiên, ở năm số 7 tại cả 3 nước, tỷ lệ rời bỏ lại thấp hơn hẳn, năm số 2 ở Đức và TBN cũng thế."
   ]
  },
  {
   "cell_type": "markdown",
   "id": "11fad385",
   "metadata": {},
   "source": [
    "# Balance"
   ]
  },
  {
   "cell_type": "code",
   "execution_count": 31,
   "id": "d8c4bf80",
   "metadata": {},
   "outputs": [
    {
     "data": {
      "text/plain": [
       "(array([3.623e+03, 6.900e+01, 3.600e+02, 1.173e+03, 2.081e+03, 1.747e+03,\n",
       "        7.290e+02, 1.860e+02, 3.000e+01, 2.000e+00]),\n",
       " array([     0.   ,  25089.809,  50179.618,  75269.427, 100359.236,\n",
       "        125449.045, 150538.854, 175628.663, 200718.472, 225808.281,\n",
       "        250898.09 ]),\n",
       " <BarContainer object of 10 artists>)"
      ]
     },
     "execution_count": 31,
     "metadata": {},
     "output_type": "execute_result"
    },
    {
     "data": {
      "image/png": "[encoded data removed]",
      "text/plain": [
       "<Figure size 432x288 with 1 Axes>"
      ]
     },
     "metadata": {
      "needs_background": "light"
     },
     "output_type": "display_data"
    }
   ],
   "source": [
    "plt.hist(df[\"Balance\"])"
   ]
  },
  {
   "cell_type": "code",
   "execution_count": 32,
   "id": "872cd286",
   "metadata": {},
   "outputs": [],
   "source": [
    "##Phân nhóm theo số dư\n",
    "def group(balance):\n",
    "    if int(balance) == 0:\n",
    "        return 0\n",
    "    elif int(balance) in range(1,50000):\n",
    "        return 1\n",
    "    elif int(balance) in range(50000, 100000):\n",
    "        return 2\n",
    "    elif int(balance) in range(100000, 150000):\n",
    "        return 3\n",
    "    elif int(balance) in range(150000, 200000):\n",
    "        return 4\n",
    "    else:\n",
    "        return 5"
   ]
  },
  {
   "cell_type": "code",
   "execution_count": 33,
   "id": "ddfd901c",
   "metadata": {},
   "outputs": [
    {
     "data": {
      "text/html": [
       "<div>\n",
       "<style scoped>\n",
       "    .dataframe tbody tr th:only-of-type {\n",
       "        vertical-align: middle;\n",
       "    }\n",
       "\n",
       "    .dataframe tbody tr th {\n",
       "        vertical-align: top;\n",
       "    }\n",
       "\n",
       "    .dataframe thead th {\n",
       "        text-align: right;\n",
       "    }\n",
       "</style>\n",
       "<table border=\"1\" class=\"dataframe\">\n",
       "  <thead>\n",
       "    <tr style=\"text-align: right;\">\n",
       "      <th></th>\n",
       "      <th>CreditScore</th>\n",
       "      <th>Geography</th>\n",
       "      <th>Gender</th>\n",
       "      <th>Age</th>\n",
       "      <th>Tenure</th>\n",
       "      <th>Balance</th>\n",
       "      <th>NumOfProducts</th>\n",
       "      <th>HasCrCard</th>\n",
       "      <th>IsActiveMember</th>\n",
       "      <th>EstimatedSalary</th>\n",
       "      <th>Exited</th>\n",
       "      <th>Group_balance</th>\n",
       "    </tr>\n",
       "  </thead>\n",
       "  <tbody>\n",
       "    <tr>\n",
       "      <th>0</th>\n",
       "      <td>619</td>\n",
       "      <td>France</td>\n",
       "      <td>Female</td>\n",
       "      <td>42</td>\n",
       "      <td>2</td>\n",
       "      <td>0.00</td>\n",
       "      <td>1</td>\n",
       "      <td>1</td>\n",
       "      <td>1</td>\n",
       "      <td>101348.88</td>\n",
       "      <td>1</td>\n",
       "      <td>0</td>\n",
       "    </tr>\n",
       "    <tr>\n",
       "      <th>1</th>\n",
       "      <td>608</td>\n",
       "      <td>Spain</td>\n",
       "      <td>Female</td>\n",
       "      <td>41</td>\n",
       "      <td>1</td>\n",
       "      <td>83807.86</td>\n",
       "      <td>1</td>\n",
       "      <td>0</td>\n",
       "      <td>1</td>\n",
       "      <td>112542.58</td>\n",
       "      <td>0</td>\n",
       "      <td>2</td>\n",
       "    </tr>\n",
       "    <tr>\n",
       "      <th>2</th>\n",
       "      <td>502</td>\n",
       "      <td>France</td>\n",
       "      <td>Female</td>\n",
       "      <td>42</td>\n",
       "      <td>8</td>\n",
       "      <td>159660.80</td>\n",
       "      <td>3</td>\n",
       "      <td>1</td>\n",
       "      <td>0</td>\n",
       "      <td>113931.57</td>\n",
       "      <td>1</td>\n",
       "      <td>4</td>\n",
       "    </tr>\n",
       "    <tr>\n",
       "      <th>3</th>\n",
       "      <td>699</td>\n",
       "      <td>France</td>\n",
       "      <td>Female</td>\n",
       "      <td>39</td>\n",
       "      <td>1</td>\n",
       "      <td>0.00</td>\n",
       "      <td>2</td>\n",
       "      <td>0</td>\n",
       "      <td>0</td>\n",
       "      <td>93826.63</td>\n",
       "      <td>0</td>\n",
       "      <td>0</td>\n",
       "    </tr>\n",
       "    <tr>\n",
       "      <th>4</th>\n",
       "      <td>850</td>\n",
       "      <td>Spain</td>\n",
       "      <td>Female</td>\n",
       "      <td>43</td>\n",
       "      <td>2</td>\n",
       "      <td>125510.82</td>\n",
       "      <td>1</td>\n",
       "      <td>1</td>\n",
       "      <td>1</td>\n",
       "      <td>79084.10</td>\n",
       "      <td>0</td>\n",
       "      <td>3</td>\n",
       "    </tr>\n",
       "    <tr>\n",
       "      <th>...</th>\n",
       "      <td>...</td>\n",
       "      <td>...</td>\n",
       "      <td>...</td>\n",
       "      <td>...</td>\n",
       "      <td>...</td>\n",
       "      <td>...</td>\n",
       "      <td>...</td>\n",
       "      <td>...</td>\n",
       "      <td>...</td>\n",
       "      <td>...</td>\n",
       "      <td>...</td>\n",
       "      <td>...</td>\n",
       "    </tr>\n",
       "    <tr>\n",
       "      <th>9995</th>\n",
       "      <td>771</td>\n",
       "      <td>France</td>\n",
       "      <td>Male</td>\n",
       "      <td>39</td>\n",
       "      <td>5</td>\n",
       "      <td>0.00</td>\n",
       "      <td>2</td>\n",
       "      <td>1</td>\n",
       "      <td>0</td>\n",
       "      <td>96270.64</td>\n",
       "      <td>0</td>\n",
       "      <td>0</td>\n",
       "    </tr>\n",
       "    <tr>\n",
       "      <th>9996</th>\n",
       "      <td>516</td>\n",
       "      <td>France</td>\n",
       "      <td>Male</td>\n",
       "      <td>35</td>\n",
       "      <td>10</td>\n",
       "      <td>57369.61</td>\n",
       "      <td>1</td>\n",
       "      <td>1</td>\n",
       "      <td>1</td>\n",
       "      <td>101699.77</td>\n",
       "      <td>0</td>\n",
       "      <td>2</td>\n",
       "    </tr>\n",
       "    <tr>\n",
       "      <th>9997</th>\n",
       "      <td>709</td>\n",
       "      <td>France</td>\n",
       "      <td>Female</td>\n",
       "      <td>36</td>\n",
       "      <td>7</td>\n",
       "      <td>0.00</td>\n",
       "      <td>1</td>\n",
       "      <td>0</td>\n",
       "      <td>1</td>\n",
       "      <td>42085.58</td>\n",
       "      <td>1</td>\n",
       "      <td>0</td>\n",
       "    </tr>\n",
       "    <tr>\n",
       "      <th>9998</th>\n",
       "      <td>772</td>\n",
       "      <td>Germany</td>\n",
       "      <td>Male</td>\n",
       "      <td>42</td>\n",
       "      <td>3</td>\n",
       "      <td>75075.31</td>\n",
       "      <td>2</td>\n",
       "      <td>1</td>\n",
       "      <td>0</td>\n",
       "      <td>92888.52</td>\n",
       "      <td>1</td>\n",
       "      <td>2</td>\n",
       "    </tr>\n",
       "    <tr>\n",
       "      <th>9999</th>\n",
       "      <td>792</td>\n",
       "      <td>France</td>\n",
       "      <td>Female</td>\n",
       "      <td>28</td>\n",
       "      <td>4</td>\n",
       "      <td>130142.79</td>\n",
       "      <td>1</td>\n",
       "      <td>1</td>\n",
       "      <td>0</td>\n",
       "      <td>38190.78</td>\n",
       "      <td>0</td>\n",
       "      <td>3</td>\n",
       "    </tr>\n",
       "  </tbody>\n",
       "</table>\n",
       "<p>10000 rows × 12 columns</p>\n",
       "</div>"
      ],
      "text/plain": [
       "      CreditScore Geography  Gender  Age  Tenure    Balance  NumOfProducts  \\\n",
       "0             619    France  Female   42       2       0.00              1   \n",
       "1             608     Spain  Female   41       1   83807.86              1   \n",
       "2             502    France  Female   42       8  159660.80              3   \n",
       "3             699    France  Female   39       1       0.00              2   \n",
       "4             850     Spain  Female   43       2  125510.82              1   \n",
       "...           ...       ...     ...  ...     ...        ...            ...   \n",
       "9995          771    France    Male   39       5       0.00              2   \n",
       "9996          516    France    Male   35      10   57369.61              1   \n",
       "9997          709    France  Female   36       7       0.00              1   \n",
       "9998          772   Germany    Male   42       3   75075.31              2   \n",
       "9999          792    France  Female   28       4  130142.79              1   \n",
       "\n",
       "      HasCrCard  IsActiveMember  EstimatedSalary  Exited  Group_balance  \n",
       "0             1               1        101348.88       1              0  \n",
       "1             0               1        112542.58       0              2  \n",
       "2             1               0        113931.57       1              4  \n",
       "3             0               0         93826.63       0              0  \n",
       "4             1               1         79084.10       0              3  \n",
       "...         ...             ...              ...     ...            ...  \n",
       "9995          1               0         96270.64       0              0  \n",
       "9996          1               1        101699.77       0              2  \n",
       "9997          0               1         42085.58       1              0  \n",
       "9998          1               0         92888.52       1              2  \n",
       "9999          1               0         38190.78       0              3  \n",
       "\n",
       "[10000 rows x 12 columns]"
      ]
     },
     "execution_count": 33,
     "metadata": {},
     "output_type": "execute_result"
    }
   ],
   "source": [
    "df[\"Group_balance\"]=df[\"Balance\"].map(group)\n",
    "df"
   ]
  },
  {
   "cell_type": "code",
   "execution_count": 34,
   "id": "6bb51796",
   "metadata": {},
   "outputs": [
    {
     "data": {
      "text/html": [
       "<div>\n",
       "<style scoped>\n",
       "    .dataframe tbody tr th:only-of-type {\n",
       "        vertical-align: middle;\n",
       "    }\n",
       "\n",
       "    .dataframe tbody tr th {\n",
       "        vertical-align: top;\n",
       "    }\n",
       "\n",
       "    .dataframe thead th {\n",
       "        text-align: right;\n",
       "    }\n",
       "</style>\n",
       "<table border=\"1\" class=\"dataframe\">\n",
       "  <thead>\n",
       "    <tr style=\"text-align: right;\">\n",
       "      <th></th>\n",
       "      <th>Group_balance</th>\n",
       "      <th>Exited</th>\n",
       "      <th>Inexited</th>\n",
       "      <th>ratio</th>\n",
       "    </tr>\n",
       "  </thead>\n",
       "  <tbody>\n",
       "    <tr>\n",
       "      <th>0</th>\n",
       "      <td>0</td>\n",
       "      <td>500</td>\n",
       "      <td>3117</td>\n",
       "      <td>13.823611</td>\n",
       "    </tr>\n",
       "    <tr>\n",
       "      <th>1</th>\n",
       "      <td>1</td>\n",
       "      <td>26</td>\n",
       "      <td>49</td>\n",
       "      <td>34.666667</td>\n",
       "    </tr>\n",
       "    <tr>\n",
       "      <th>2</th>\n",
       "      <td>2</td>\n",
       "      <td>300</td>\n",
       "      <td>1209</td>\n",
       "      <td>19.880716</td>\n",
       "    </tr>\n",
       "    <tr>\n",
       "      <th>3</th>\n",
       "      <td>3</td>\n",
       "      <td>987</td>\n",
       "      <td>2843</td>\n",
       "      <td>25.770235</td>\n",
       "    </tr>\n",
       "    <tr>\n",
       "      <th>4</th>\n",
       "      <td>4</td>\n",
       "      <td>205</td>\n",
       "      <td>730</td>\n",
       "      <td>21.925134</td>\n",
       "    </tr>\n",
       "    <tr>\n",
       "      <th>5</th>\n",
       "      <td>5</td>\n",
       "      <td>19</td>\n",
       "      <td>15</td>\n",
       "      <td>55.882353</td>\n",
       "    </tr>\n",
       "  </tbody>\n",
       "</table>\n",
       "</div>"
      ],
      "text/plain": [
       "   Group_balance  Exited  Inexited      ratio\n",
       "0              0     500      3117  13.823611\n",
       "1              1      26        49  34.666667\n",
       "2              2     300      1209  19.880716\n",
       "3              3     987      2843  25.770235\n",
       "4              4     205       730  21.925134\n",
       "5              5      19        15  55.882353"
      ]
     },
     "execution_count": 34,
     "metadata": {},
     "output_type": "execute_result"
    }
   ],
   "source": [
    "##Tỷ lệ rời bỏ theo số dư\n",
    "df_bal_ex=df[df['Exited']==1].groupby('Group_balance').agg('count')\n",
    "df_bal_ex.reset_index(inplace=True, drop=False)\n",
    "df_bal_ex=df_bal_ex[['Group_balance','Exited',]]\n",
    "\n",
    "df_bal_inex=df[df['Exited']==0].groupby('Group_balance').agg('count')\n",
    "df_bal_inex.reset_index(inplace=True, drop=False)\n",
    "df_bal_inex=df_bal_inex[['Group_balance','Exited',]]\n",
    "df_bal_inex=df_bal_inex.rename(columns={'Exited':'Inexited'})\n",
    "\n",
    "df_bal=pd.merge(df_bal_ex, df_bal_inex, how='outer', on='Group_balance')\n",
    "df_bal['ratio']=df_bal['Exited']/(df_bal['Exited']+df_bal['Inexited'])*100\n",
    "df_bal"
   ]
  },
  {
   "cell_type": "code",
   "execution_count": 35,
   "id": "861dcb23",
   "metadata": {},
   "outputs": [
    {
     "data": {
      "text/plain": [
       "<BarContainer object of 6 artists>"
      ]
     },
     "execution_count": 35,
     "metadata": {},
     "output_type": "execute_result"
    },
    {
     "data": {
      "image/png": "[encoded data removed]",
      "text/plain": [
       "<Figure size 432x288 with 1 Axes>"
      ]
     },
     "metadata": {
      "needs_background": "light"
     },
     "output_type": "display_data"
    }
   ],
   "source": [
    "Bal=df_bal['Group_balance']\n",
    "Ratio_bal=df_bal['ratio']\n",
    "plt.bar(Bal,Ratio_bal,color='g')"
   ]
  },
  {
   "cell_type": "markdown",
   "id": "c4220468",
   "metadata": {},
   "source": [
    "Nhóm có số dư tài khoản lớn nhất lại có tỷ lệ rời bỏ cao nhất, giống với kết quả phân tích ở trên, số dư trong tài khoản càng lớn không đồng nghĩa với việc người đó sẽ không rời bỏ sử dụng dịch vụ."
   ]
  },
  {
   "cell_type": "markdown",
   "id": "fe2aa449",
   "metadata": {},
   "source": [
    "# Number of products"
   ]
  },
  {
   "cell_type": "code",
   "execution_count": 36,
   "id": "7b74808b",
   "metadata": {},
   "outputs": [
    {
     "data": {
      "text/html": [
       "<div>\n",
       "<style scoped>\n",
       "    .dataframe tbody tr th:only-of-type {\n",
       "        vertical-align: middle;\n",
       "    }\n",
       "\n",
       "    .dataframe tbody tr th {\n",
       "        vertical-align: top;\n",
       "    }\n",
       "\n",
       "    .dataframe thead th {\n",
       "        text-align: right;\n",
       "    }\n",
       "</style>\n",
       "<table border=\"1\" class=\"dataframe\">\n",
       "  <thead>\n",
       "    <tr style=\"text-align: right;\">\n",
       "      <th></th>\n",
       "      <th>NumOfProducts</th>\n",
       "      <th>Exited</th>\n",
       "      <th>Num</th>\n",
       "    </tr>\n",
       "  </thead>\n",
       "  <tbody>\n",
       "    <tr>\n",
       "      <th>0</th>\n",
       "      <td>1</td>\n",
       "      <td>0</td>\n",
       "      <td>3675</td>\n",
       "    </tr>\n",
       "    <tr>\n",
       "      <th>1</th>\n",
       "      <td>2</td>\n",
       "      <td>0</td>\n",
       "      <td>4242</td>\n",
       "    </tr>\n",
       "    <tr>\n",
       "      <th>2</th>\n",
       "      <td>3</td>\n",
       "      <td>0</td>\n",
       "      <td>46</td>\n",
       "    </tr>\n",
       "    <tr>\n",
       "      <th>3</th>\n",
       "      <td>1</td>\n",
       "      <td>1</td>\n",
       "      <td>1409</td>\n",
       "    </tr>\n",
       "    <tr>\n",
       "      <th>4</th>\n",
       "      <td>2</td>\n",
       "      <td>1</td>\n",
       "      <td>348</td>\n",
       "    </tr>\n",
       "    <tr>\n",
       "      <th>5</th>\n",
       "      <td>3</td>\n",
       "      <td>1</td>\n",
       "      <td>220</td>\n",
       "    </tr>\n",
       "    <tr>\n",
       "      <th>6</th>\n",
       "      <td>4</td>\n",
       "      <td>1</td>\n",
       "      <td>60</td>\n",
       "    </tr>\n",
       "  </tbody>\n",
       "</table>\n",
       "</div>"
      ],
      "text/plain": [
       "   NumOfProducts  Exited   Num\n",
       "0              1       0  3675\n",
       "1              2       0  4242\n",
       "2              3       0    46\n",
       "3              1       1  1409\n",
       "4              2       1   348\n",
       "5              3       1   220\n",
       "6              4       1    60"
      ]
     },
     "execution_count": 36,
     "metadata": {},
     "output_type": "execute_result"
    }
   ],
   "source": [
    "df_pr=df.groupby(by=['Exited', 'NumOfProducts']).agg('count')\n",
    "df_pr.reset_index(inplace=True, drop=False)\n",
    "df_pr=df_pr[['NumOfProducts','Exited','Age']]\n",
    "df_pr=df_pr.rename(columns={\"Age\":'Num'})\n",
    "df_pr"
   ]
  },
  {
   "cell_type": "code",
   "execution_count": 37,
   "id": "3228ed6a",
   "metadata": {},
   "outputs": [
    {
     "data": {
      "text/plain": [
       "<AxesSubplot:xlabel='NumOfProducts', ylabel='Num'>"
      ]
     },
     "execution_count": 37,
     "metadata": {},
     "output_type": "execute_result"
    },
    {
     "data": {
      "image/png": "[encoded data removed]",
      "text/plain": [
       "<Figure size 432x288 with 1 Axes>"
      ]
     },
     "metadata": {
      "needs_background": "light"
     },
     "output_type": "display_data"
    }
   ],
   "source": [
    "sns.barplot(data=df_pr, x='NumOfProducts',y='Num',hue=\"Exited\")"
   ]
  },
  {
   "cell_type": "markdown",
   "id": "b507ec7c",
   "metadata": {},
   "source": [
    "# Has Credit Card"
   ]
  },
  {
   "cell_type": "code",
   "execution_count": 38,
   "id": "ee0f126f",
   "metadata": {},
   "outputs": [
    {
     "data": {
      "text/html": [
       "<div>\n",
       "<style scoped>\n",
       "    .dataframe tbody tr th:only-of-type {\n",
       "        vertical-align: middle;\n",
       "    }\n",
       "\n",
       "    .dataframe tbody tr th {\n",
       "        vertical-align: top;\n",
       "    }\n",
       "\n",
       "    .dataframe thead th {\n",
       "        text-align: right;\n",
       "    }\n",
       "</style>\n",
       "<table border=\"1\" class=\"dataframe\">\n",
       "  <thead>\n",
       "    <tr style=\"text-align: right;\">\n",
       "      <th></th>\n",
       "      <th>HasCrCard</th>\n",
       "      <th>Exited</th>\n",
       "      <th>Inexited</th>\n",
       "      <th>ratio</th>\n",
       "    </tr>\n",
       "  </thead>\n",
       "  <tbody>\n",
       "    <tr>\n",
       "      <th>0</th>\n",
       "      <td>0</td>\n",
       "      <td>613</td>\n",
       "      <td>2332</td>\n",
       "      <td>20.814941</td>\n",
       "    </tr>\n",
       "    <tr>\n",
       "      <th>1</th>\n",
       "      <td>1</td>\n",
       "      <td>1424</td>\n",
       "      <td>5631</td>\n",
       "      <td>20.184266</td>\n",
       "    </tr>\n",
       "  </tbody>\n",
       "</table>\n",
       "</div>"
      ],
      "text/plain": [
       "   HasCrCard  Exited  Inexited      ratio\n",
       "0          0     613      2332  20.814941\n",
       "1          1    1424      5631  20.184266"
      ]
     },
     "execution_count": 38,
     "metadata": {},
     "output_type": "execute_result"
    }
   ],
   "source": [
    "##tỷ lệ rời bỏ của người có Credit Card\n",
    "df_has_ex=df[df[\"Exited\"]==1].groupby('HasCrCard').agg('count')\n",
    "df_has_ex.reset_index(inplace=True, drop=False)\n",
    "df_has_ex=df_has_ex[[\"HasCrCard\",'Exited',]]\n",
    "\n",
    "df_has_inex=df[df[\"Exited\"]==0].groupby('HasCrCard').agg('count')\n",
    "df_has_inex.reset_index(inplace=True, drop=False)\n",
    "df_has_inex=df_has_inex[[\"HasCrCard\",'Exited',]]\n",
    "df_has_inex=df_has_inex.rename(columns={'Exited':'Inexited'})\n",
    "\n",
    "df_has=pd.merge(df_has_ex, df_has_inex, how='outer', on='HasCrCard')\n",
    "df_has['ratio']=df_has['Exited']/(df_has['Exited']+df_has['Inexited'])*100\n",
    "df_has"
   ]
  },
  {
   "cell_type": "markdown",
   "id": "48be7db9",
   "metadata": {},
   "source": [
    "Tỷ lệ rời bỏ của nhóm khách hàng có và không có Credit Card không chênh lệch quá lớn, cho thấy có hay không có thẻ tín dụng không tác động nhiều đến việc rời bỏ sddv."
   ]
  },
  {
   "cell_type": "markdown",
   "id": "b283f730",
   "metadata": {},
   "source": [
    "# Is Active Member"
   ]
  },
  {
   "cell_type": "code",
   "execution_count": 39,
   "id": "32f17869",
   "metadata": {},
   "outputs": [
    {
     "data": {
      "text/html": [
       "<div>\n",
       "<style scoped>\n",
       "    .dataframe tbody tr th:only-of-type {\n",
       "        vertical-align: middle;\n",
       "    }\n",
       "\n",
       "    .dataframe tbody tr th {\n",
       "        vertical-align: top;\n",
       "    }\n",
       "\n",
       "    .dataframe thead th {\n",
       "        text-align: right;\n",
       "    }\n",
       "</style>\n",
       "<table border=\"1\" class=\"dataframe\">\n",
       "  <thead>\n",
       "    <tr style=\"text-align: right;\">\n",
       "      <th></th>\n",
       "      <th>IsActiveMember</th>\n",
       "      <th>Exited</th>\n",
       "      <th>Inexited</th>\n",
       "      <th>ratio</th>\n",
       "    </tr>\n",
       "  </thead>\n",
       "  <tbody>\n",
       "    <tr>\n",
       "      <th>0</th>\n",
       "      <td>0</td>\n",
       "      <td>1302</td>\n",
       "      <td>3547</td>\n",
       "      <td>26.850897</td>\n",
       "    </tr>\n",
       "    <tr>\n",
       "      <th>1</th>\n",
       "      <td>1</td>\n",
       "      <td>735</td>\n",
       "      <td>4416</td>\n",
       "      <td>14.269074</td>\n",
       "    </tr>\n",
       "  </tbody>\n",
       "</table>\n",
       "</div>"
      ],
      "text/plain": [
       "   IsActiveMember  Exited  Inexited      ratio\n",
       "0               0    1302      3547  26.850897\n",
       "1               1     735      4416  14.269074"
      ]
     },
     "execution_count": 39,
     "metadata": {},
     "output_type": "execute_result"
    }
   ],
   "source": [
    "##Tỷ lệ rời bỏ theo trạng thái hoạt động\n",
    "df_ac_ex=df[df[\"Exited\"]==1].groupby('IsActiveMember').agg('count')\n",
    "df_ac_ex.reset_index(inplace=True, drop=False)\n",
    "df_ac_ex=df_ac_ex[[\"IsActiveMember\",'Exited',]]\n",
    "\n",
    "df_ac_inex=df[df[\"Exited\"]==0].groupby('IsActiveMember').agg('count')\n",
    "df_ac_inex.reset_index(inplace=True, drop=False)\n",
    "df_ac_inex=df_ac_inex[[\"IsActiveMember\",'Exited',]]\n",
    "df_ac_inex=df_ac_inex.rename(columns={'Exited':'Inexited'})\n",
    "\n",
    "df_ac=pd.merge(df_ac_ex, df_ac_inex, how='outer', on='IsActiveMember')\n",
    "df_ac['ratio']=df_ac['Exited']/(df_ac['Exited']+df_ac['Inexited'])*100\n",
    "df_ac"
   ]
  },
  {
   "cell_type": "markdown",
   "id": "ca6b54a7",
   "metadata": {},
   "source": [
    "Tỷ lệ rời bỏ của nhóm hoạt động tích cực thấp hơn nhóm không hoạt động tích cực."
   ]
  },
  {
   "cell_type": "markdown",
   "id": "84cbff9e",
   "metadata": {},
   "source": [
    "# Estimated Salary"
   ]
  },
  {
   "cell_type": "code",
   "execution_count": 41,
   "id": "7099703d",
   "metadata": {},
   "outputs": [],
   "source": [
    "##Phân nhóm theo lương\n",
    "def group(salary):\n",
    "    if int(salary) in range(1,50000):\n",
    "        return 1\n",
    "    elif int(salary) in range(50000, 100000):\n",
    "        return 2\n",
    "    elif int(salary) in range(100000, 150000):\n",
    "        return 3\n",
    "    else:\n",
    "        return 4"
   ]
  },
  {
   "cell_type": "code",
   "execution_count": 42,
   "id": "73660717",
   "metadata": {},
   "outputs": [
    {
     "data": {
      "text/html": [
       "<div>\n",
       "<style scoped>\n",
       "    .dataframe tbody tr th:only-of-type {\n",
       "        vertical-align: middle;\n",
       "    }\n",
       "\n",
       "    .dataframe tbody tr th {\n",
       "        vertical-align: top;\n",
       "    }\n",
       "\n",
       "    .dataframe thead th {\n",
       "        text-align: right;\n",
       "    }\n",
       "</style>\n",
       "<table border=\"1\" class=\"dataframe\">\n",
       "  <thead>\n",
       "    <tr style=\"text-align: right;\">\n",
       "      <th></th>\n",
       "      <th>CreditScore</th>\n",
       "      <th>Geography</th>\n",
       "      <th>Gender</th>\n",
       "      <th>Age</th>\n",
       "      <th>Tenure</th>\n",
       "      <th>Balance</th>\n",
       "      <th>NumOfProducts</th>\n",
       "      <th>HasCrCard</th>\n",
       "      <th>IsActiveMember</th>\n",
       "      <th>EstimatedSalary</th>\n",
       "      <th>Exited</th>\n",
       "      <th>Group_balance</th>\n",
       "      <th>Group_salary</th>\n",
       "    </tr>\n",
       "  </thead>\n",
       "  <tbody>\n",
       "    <tr>\n",
       "      <th>0</th>\n",
       "      <td>619</td>\n",
       "      <td>France</td>\n",
       "      <td>Female</td>\n",
       "      <td>42</td>\n",
       "      <td>2</td>\n",
       "      <td>0.00</td>\n",
       "      <td>1</td>\n",
       "      <td>1</td>\n",
       "      <td>1</td>\n",
       "      <td>101348.88</td>\n",
       "      <td>1</td>\n",
       "      <td>0</td>\n",
       "      <td>3</td>\n",
       "    </tr>\n",
       "    <tr>\n",
       "      <th>1</th>\n",
       "      <td>608</td>\n",
       "      <td>Spain</td>\n",
       "      <td>Female</td>\n",
       "      <td>41</td>\n",
       "      <td>1</td>\n",
       "      <td>83807.86</td>\n",
       "      <td>1</td>\n",
       "      <td>0</td>\n",
       "      <td>1</td>\n",
       "      <td>112542.58</td>\n",
       "      <td>0</td>\n",
       "      <td>2</td>\n",
       "      <td>3</td>\n",
       "    </tr>\n",
       "    <tr>\n",
       "      <th>2</th>\n",
       "      <td>502</td>\n",
       "      <td>France</td>\n",
       "      <td>Female</td>\n",
       "      <td>42</td>\n",
       "      <td>8</td>\n",
       "      <td>159660.80</td>\n",
       "      <td>3</td>\n",
       "      <td>1</td>\n",
       "      <td>0</td>\n",
       "      <td>113931.57</td>\n",
       "      <td>1</td>\n",
       "      <td>4</td>\n",
       "      <td>3</td>\n",
       "    </tr>\n",
       "    <tr>\n",
       "      <th>3</th>\n",
       "      <td>699</td>\n",
       "      <td>France</td>\n",
       "      <td>Female</td>\n",
       "      <td>39</td>\n",
       "      <td>1</td>\n",
       "      <td>0.00</td>\n",
       "      <td>2</td>\n",
       "      <td>0</td>\n",
       "      <td>0</td>\n",
       "      <td>93826.63</td>\n",
       "      <td>0</td>\n",
       "      <td>0</td>\n",
       "      <td>2</td>\n",
       "    </tr>\n",
       "    <tr>\n",
       "      <th>4</th>\n",
       "      <td>850</td>\n",
       "      <td>Spain</td>\n",
       "      <td>Female</td>\n",
       "      <td>43</td>\n",
       "      <td>2</td>\n",
       "      <td>125510.82</td>\n",
       "      <td>1</td>\n",
       "      <td>1</td>\n",
       "      <td>1</td>\n",
       "      <td>79084.10</td>\n",
       "      <td>0</td>\n",
       "      <td>3</td>\n",
       "      <td>2</td>\n",
       "    </tr>\n",
       "    <tr>\n",
       "      <th>...</th>\n",
       "      <td>...</td>\n",
       "      <td>...</td>\n",
       "      <td>...</td>\n",
       "      <td>...</td>\n",
       "      <td>...</td>\n",
       "      <td>...</td>\n",
       "      <td>...</td>\n",
       "      <td>...</td>\n",
       "      <td>...</td>\n",
       "      <td>...</td>\n",
       "      <td>...</td>\n",
       "      <td>...</td>\n",
       "      <td>...</td>\n",
       "    </tr>\n",
       "    <tr>\n",
       "      <th>9995</th>\n",
       "      <td>771</td>\n",
       "      <td>France</td>\n",
       "      <td>Male</td>\n",
       "      <td>39</td>\n",
       "      <td>5</td>\n",
       "      <td>0.00</td>\n",
       "      <td>2</td>\n",
       "      <td>1</td>\n",
       "      <td>0</td>\n",
       "      <td>96270.64</td>\n",
       "      <td>0</td>\n",
       "      <td>0</td>\n",
       "      <td>2</td>\n",
       "    </tr>\n",
       "    <tr>\n",
       "      <th>9996</th>\n",
       "      <td>516</td>\n",
       "      <td>France</td>\n",
       "      <td>Male</td>\n",
       "      <td>35</td>\n",
       "      <td>10</td>\n",
       "      <td>57369.61</td>\n",
       "      <td>1</td>\n",
       "      <td>1</td>\n",
       "      <td>1</td>\n",
       "      <td>101699.77</td>\n",
       "      <td>0</td>\n",
       "      <td>2</td>\n",
       "      <td>3</td>\n",
       "    </tr>\n",
       "    <tr>\n",
       "      <th>9997</th>\n",
       "      <td>709</td>\n",
       "      <td>France</td>\n",
       "      <td>Female</td>\n",
       "      <td>36</td>\n",
       "      <td>7</td>\n",
       "      <td>0.00</td>\n",
       "      <td>1</td>\n",
       "      <td>0</td>\n",
       "      <td>1</td>\n",
       "      <td>42085.58</td>\n",
       "      <td>1</td>\n",
       "      <td>0</td>\n",
       "      <td>1</td>\n",
       "    </tr>\n",
       "    <tr>\n",
       "      <th>9998</th>\n",
       "      <td>772</td>\n",
       "      <td>Germany</td>\n",
       "      <td>Male</td>\n",
       "      <td>42</td>\n",
       "      <td>3</td>\n",
       "      <td>75075.31</td>\n",
       "      <td>2</td>\n",
       "      <td>1</td>\n",
       "      <td>0</td>\n",
       "      <td>92888.52</td>\n",
       "      <td>1</td>\n",
       "      <td>2</td>\n",
       "      <td>2</td>\n",
       "    </tr>\n",
       "    <tr>\n",
       "      <th>9999</th>\n",
       "      <td>792</td>\n",
       "      <td>France</td>\n",
       "      <td>Female</td>\n",
       "      <td>28</td>\n",
       "      <td>4</td>\n",
       "      <td>130142.79</td>\n",
       "      <td>1</td>\n",
       "      <td>1</td>\n",
       "      <td>0</td>\n",
       "      <td>38190.78</td>\n",
       "      <td>0</td>\n",
       "      <td>3</td>\n",
       "      <td>1</td>\n",
       "    </tr>\n",
       "  </tbody>\n",
       "</table>\n",
       "<p>10000 rows × 13 columns</p>\n",
       "</div>"
      ],
      "text/plain": [
       "      CreditScore Geography  Gender  Age  Tenure    Balance  NumOfProducts  \\\n",
       "0             619    France  Female   42       2       0.00              1   \n",
       "1             608     Spain  Female   41       1   83807.86              1   \n",
       "2             502    France  Female   42       8  159660.80              3   \n",
       "3             699    France  Female   39       1       0.00              2   \n",
       "4             850     Spain  Female   43       2  125510.82              1   \n",
       "...           ...       ...     ...  ...     ...        ...            ...   \n",
       "9995          771    France    Male   39       5       0.00              2   \n",
       "9996          516    France    Male   35      10   57369.61              1   \n",
       "9997          709    France  Female   36       7       0.00              1   \n",
       "9998          772   Germany    Male   42       3   75075.31              2   \n",
       "9999          792    France  Female   28       4  130142.79              1   \n",
       "\n",
       "      HasCrCard  IsActiveMember  EstimatedSalary  Exited  Group_balance  \\\n",
       "0             1               1        101348.88       1              0   \n",
       "1             0               1        112542.58       0              2   \n",
       "2             1               0        113931.57       1              4   \n",
       "3             0               0         93826.63       0              0   \n",
       "4             1               1         79084.10       0              3   \n",
       "...         ...             ...              ...     ...            ...   \n",
       "9995          1               0         96270.64       0              0   \n",
       "9996          1               1        101699.77       0              2   \n",
       "9997          0               1         42085.58       1              0   \n",
       "9998          1               0         92888.52       1              2   \n",
       "9999          1               0         38190.78       0              3   \n",
       "\n",
       "      Group_salary  \n",
       "0                3  \n",
       "1                3  \n",
       "2                3  \n",
       "3                2  \n",
       "4                2  \n",
       "...            ...  \n",
       "9995             2  \n",
       "9996             3  \n",
       "9997             1  \n",
       "9998             2  \n",
       "9999             1  \n",
       "\n",
       "[10000 rows x 13 columns]"
      ]
     },
     "execution_count": 42,
     "metadata": {},
     "output_type": "execute_result"
    }
   ],
   "source": [
    "df[\"Group_salary\"]=df[\"EstimatedSalary\"].map(group)\n",
    "df"
   ]
  },
  {
   "cell_type": "code",
   "execution_count": 43,
   "id": "eb3d1341",
   "metadata": {},
   "outputs": [
    {
     "data": {
      "text/html": [
       "<div>\n",
       "<style scoped>\n",
       "    .dataframe tbody tr th:only-of-type {\n",
       "        vertical-align: middle;\n",
       "    }\n",
       "\n",
       "    .dataframe tbody tr th {\n",
       "        vertical-align: top;\n",
       "    }\n",
       "\n",
       "    .dataframe thead th {\n",
       "        text-align: right;\n",
       "    }\n",
       "</style>\n",
       "<table border=\"1\" class=\"dataframe\">\n",
       "  <thead>\n",
       "    <tr style=\"text-align: right;\">\n",
       "      <th></th>\n",
       "      <th>Group_salary</th>\n",
       "      <th>Exited</th>\n",
       "      <th>Inexited</th>\n",
       "      <th>ratio</th>\n",
       "    </tr>\n",
       "  </thead>\n",
       "  <tbody>\n",
       "    <tr>\n",
       "      <th>0</th>\n",
       "      <td>1</td>\n",
       "      <td>489</td>\n",
       "      <td>1964</td>\n",
       "      <td>19.934774</td>\n",
       "    </tr>\n",
       "    <tr>\n",
       "      <th>1</th>\n",
       "      <td>2</td>\n",
       "      <td>504</td>\n",
       "      <td>2033</td>\n",
       "      <td>19.865983</td>\n",
       "    </tr>\n",
       "    <tr>\n",
       "      <th>2</th>\n",
       "      <td>3</td>\n",
       "      <td>517</td>\n",
       "      <td>2038</td>\n",
       "      <td>20.234834</td>\n",
       "    </tr>\n",
       "    <tr>\n",
       "      <th>3</th>\n",
       "      <td>4</td>\n",
       "      <td>527</td>\n",
       "      <td>1928</td>\n",
       "      <td>21.466395</td>\n",
       "    </tr>\n",
       "  </tbody>\n",
       "</table>\n",
       "</div>"
      ],
      "text/plain": [
       "   Group_salary  Exited  Inexited      ratio\n",
       "0             1     489      1964  19.934774\n",
       "1             2     504      2033  19.865983\n",
       "2             3     517      2038  20.234834\n",
       "3             4     527      1928  21.466395"
      ]
     },
     "execution_count": 43,
     "metadata": {},
     "output_type": "execute_result"
    }
   ],
   "source": [
    "##Tỷ lệ rời bỏ theo lương\n",
    "df_salary_ex=df[df['Exited']==1].groupby('Group_salary').agg('count')\n",
    "df_salary_ex.reset_index(inplace=True, drop=False)\n",
    "df_salary_ex=df_salary_ex[['Group_salary','Exited',]]\n",
    "\n",
    "df_salary_inex=df[df['Exited']==0].groupby('Group_salary').agg('count')\n",
    "df_salary_inex.reset_index(inplace=True, drop=False)\n",
    "df_salary_inex=df_salary_inex[['Group_salary','Exited',]]\n",
    "df_salary_inex=df_salary_inex.rename(columns={'Exited':'Inexited'})\n",
    "\n",
    "df_salary=pd.merge(df_salary_ex, df_salary_inex, how='outer', on='Group_salary')\n",
    "df_salary['ratio']=df_salary['Exited']/(df_salary['Exited']+df_salary['Inexited'])*100\n",
    "df_salary"
   ]
  },
  {
   "cell_type": "code",
   "execution_count": 44,
   "id": "cf8eb947",
   "metadata": {},
   "outputs": [
    {
     "data": {
      "text/plain": [
       "<BarContainer object of 4 artists>"
      ]
     },
     "execution_count": 44,
     "metadata": {},
     "output_type": "execute_result"
    },
    {
     "data": {
      "image/png": "[encoded data removed]",
      "text/plain": [
       "<Figure size 432x288 with 1 Axes>"
      ]
     },
     "metadata": {
      "needs_background": "light"
     },
     "output_type": "display_data"
    }
   ],
   "source": [
    "Salary=df_salary['Group_salary']\n",
    "Ratio_salary=df_salary['ratio']\n",
    "plt.bar(Salary,Ratio_salary,color='g')"
   ]
  },
  {
   "cell_type": "markdown",
   "id": "1961d220",
   "metadata": {},
   "source": [
    "Nhóm có thu nhập ước tính cao nhất có tỷ lệ rời bỏ cao nhất."
   ]
  },
  {
   "cell_type": "code",
   "execution_count": 45,
   "id": "e6154988",
   "metadata": {},
   "outputs": [
    {
     "data": {
      "text/html": [
       "<div>\n",
       "<style scoped>\n",
       "    .dataframe tbody tr th:only-of-type {\n",
       "        vertical-align: middle;\n",
       "    }\n",
       "\n",
       "    .dataframe tbody tr th {\n",
       "        vertical-align: top;\n",
       "    }\n",
       "\n",
       "    .dataframe thead th {\n",
       "        text-align: right;\n",
       "    }\n",
       "</style>\n",
       "<table border=\"1\" class=\"dataframe\">\n",
       "  <thead>\n",
       "    <tr style=\"text-align: right;\">\n",
       "      <th></th>\n",
       "      <th>Group_salary</th>\n",
       "      <th>Exited</th>\n",
       "      <th>Inexited</th>\n",
       "      <th>ratio</th>\n",
       "    </tr>\n",
       "  </thead>\n",
       "  <tbody>\n",
       "    <tr>\n",
       "      <th>0</th>\n",
       "      <td>1</td>\n",
       "      <td>271</td>\n",
       "      <td>836</td>\n",
       "      <td>24.480578</td>\n",
       "    </tr>\n",
       "    <tr>\n",
       "      <th>1</th>\n",
       "      <td>2</td>\n",
       "      <td>270</td>\n",
       "      <td>842</td>\n",
       "      <td>24.280576</td>\n",
       "    </tr>\n",
       "    <tr>\n",
       "      <th>2</th>\n",
       "      <td>3</td>\n",
       "      <td>299</td>\n",
       "      <td>913</td>\n",
       "      <td>24.669967</td>\n",
       "    </tr>\n",
       "    <tr>\n",
       "      <th>3</th>\n",
       "      <td>4</td>\n",
       "      <td>299</td>\n",
       "      <td>813</td>\n",
       "      <td>26.888489</td>\n",
       "    </tr>\n",
       "  </tbody>\n",
       "</table>\n",
       "</div>"
      ],
      "text/plain": [
       "   Group_salary  Exited  Inexited      ratio\n",
       "0             1     271       836  24.480578\n",
       "1             2     270       842  24.280576\n",
       "2             3     299       913  24.669967\n",
       "3             4     299       813  26.888489"
      ]
     },
     "execution_count": 45,
     "metadata": {},
     "output_type": "execute_result"
    }
   ],
   "source": [
    "##Tỷ lệ rời bỏ theo nhóm lương ở nam giới\n",
    "df_fe=df[df['Gender']=='Female']\n",
    "df_salary_ex_fe=df_fe[df_fe['Exited']==1].groupby('Group_salary').agg('count')\n",
    "df_salary_ex_fe.reset_index(inplace=True, drop=False)\n",
    "df_salary_ex_fe=df_salary_ex_fe[['Group_salary','Exited',]]\n",
    "df_salary_ex_fe\n",
    "\n",
    "df_salary_inex_fe=df_fe[df_fe['Exited']==0].groupby('Group_salary').agg('count')\n",
    "df_salary_inex_fe.reset_index(inplace=True, drop=False)\n",
    "df_salary_inex_fe=df_salary_inex_fe[['Group_salary','Exited',]]\n",
    "df_salary_inex_fe=df_salary_inex_fe.rename(columns={'Exited':'Inexited'})\n",
    "\n",
    "df_salary_fe=pd.merge(df_salary_ex_fe, df_salary_inex_fe, how='outer', on='Group_salary')\n",
    "df_salary_fe['ratio']=df_salary_fe['Exited']/(df_salary_fe['Exited']+df_salary_fe['Inexited'])*100\n",
    "df_salary_fe"
   ]
  },
  {
   "cell_type": "code",
   "execution_count": 46,
   "id": "01f72124",
   "metadata": {},
   "outputs": [
    {
     "data": {
      "text/html": [
       "<div>\n",
       "<style scoped>\n",
       "    .dataframe tbody tr th:only-of-type {\n",
       "        vertical-align: middle;\n",
       "    }\n",
       "\n",
       "    .dataframe tbody tr th {\n",
       "        vertical-align: top;\n",
       "    }\n",
       "\n",
       "    .dataframe thead th {\n",
       "        text-align: right;\n",
       "    }\n",
       "</style>\n",
       "<table border=\"1\" class=\"dataframe\">\n",
       "  <thead>\n",
       "    <tr style=\"text-align: right;\">\n",
       "      <th></th>\n",
       "      <th>Group_salary</th>\n",
       "      <th>Exited</th>\n",
       "      <th>Inexited</th>\n",
       "      <th>ratio</th>\n",
       "    </tr>\n",
       "  </thead>\n",
       "  <tbody>\n",
       "    <tr>\n",
       "      <th>0</th>\n",
       "      <td>1</td>\n",
       "      <td>218</td>\n",
       "      <td>1128</td>\n",
       "      <td>16.196137</td>\n",
       "    </tr>\n",
       "    <tr>\n",
       "      <th>1</th>\n",
       "      <td>2</td>\n",
       "      <td>234</td>\n",
       "      <td>1191</td>\n",
       "      <td>16.421053</td>\n",
       "    </tr>\n",
       "    <tr>\n",
       "      <th>2</th>\n",
       "      <td>3</td>\n",
       "      <td>218</td>\n",
       "      <td>1125</td>\n",
       "      <td>16.232316</td>\n",
       "    </tr>\n",
       "    <tr>\n",
       "      <th>3</th>\n",
       "      <td>4</td>\n",
       "      <td>228</td>\n",
       "      <td>1115</td>\n",
       "      <td>16.976917</td>\n",
       "    </tr>\n",
       "  </tbody>\n",
       "</table>\n",
       "</div>"
      ],
      "text/plain": [
       "   Group_salary  Exited  Inexited      ratio\n",
       "0             1     218      1128  16.196137\n",
       "1             2     234      1191  16.421053\n",
       "2             3     218      1125  16.232316\n",
       "3             4     228      1115  16.976917"
      ]
     },
     "execution_count": 46,
     "metadata": {},
     "output_type": "execute_result"
    }
   ],
   "source": [
    "##Tỷ lệ rời bỏ theo nhóm lương ở nam giới\n",
    "df_ma=df[df['Gender']=='Male']\n",
    "df_salary_ex_ma=df_ma[df_ma['Exited']==1].groupby('Group_salary').agg('count')\n",
    "df_salary_ex_ma.reset_index(inplace=True, drop=False)\n",
    "df_salary_ex_ma=df_salary_ex_ma[['Group_salary','Exited',]]\n",
    "df_salary_ex_ma\n",
    "\n",
    "df_salary_inex_ma=df_ma[df_ma['Exited']==0].groupby('Group_salary').agg('count')\n",
    "df_salary_inex_ma.reset_index(inplace=True, drop=False)\n",
    "df_salary_inex_ma=df_salary_inex_ma[['Group_salary','Exited',]]\n",
    "df_salary_inex_ma=df_salary_inex_ma.rename(columns={'Exited':'Inexited'})\n",
    "\n",
    "df_salary_ma=pd.merge(df_salary_ex_ma, df_salary_inex_ma, how='outer', on='Group_salary')\n",
    "df_salary_ma['ratio']=df_salary_ma['Exited']/(df_salary_ma['Exited']+df_salary_ma['Inexited'])*100\n",
    "df_salary_ma"
   ]
  },
  {
   "cell_type": "markdown",
   "id": "4633b286",
   "metadata": {},
   "source": [
    "Nữ giới có mức lương cao thì có tỷ lệ rời bỏ cao hơn nhóm có mức lương thấp và cao hơn ở nam giới có cùng mức lương. Về tỷ lệ rời bỏ ở nam giới, không bị ảnh hưởng quá nhiều bởi mức lương ước tính."
   ]
  },
  {
   "cell_type": "markdown",
   "id": "7c9f31c9",
   "metadata": {},
   "source": [
    "# Detecting Outliers"
   ]
  },
  {
   "cell_type": "code",
   "execution_count": 336,
   "id": "762beecd",
   "metadata": {},
   "outputs": [],
   "source": [
    "def boxplot(df, column):\n",
    "    df.boxplot(column)\n",
    "    plt.grid(False)\n",
    "    plt.show()"
   ]
  },
  {
   "cell_type": "code",
   "execution_count": 93,
   "id": "7acc5df1",
   "metadata": {},
   "outputs": [
    {
     "data": {
      "image/png": "[encoded data removed]",
      "text/plain": [
       "<Figure size 432x288 with 1 Axes>"
      ]
     },
     "metadata": {
      "needs_background": "light"
     },
     "output_type": "display_data"
    }
   ],
   "source": [
    "boxplot(df, 'CreditScore')"
   ]
  },
  {
   "cell_type": "code",
   "execution_count": 94,
   "id": "39a116aa",
   "metadata": {},
   "outputs": [
    {
     "data": {
      "image/png": "[encoded data removed]",
      "text/plain": [
       "<Figure size 432x288 with 1 Axes>"
      ]
     },
     "metadata": {
      "needs_background": "light"
     },
     "output_type": "display_data"
    }
   ],
   "source": [
    "boxplot(df, 'Age')"
   ]
  },
  {
   "cell_type": "code",
   "execution_count": 95,
   "id": "7529258c",
   "metadata": {},
   "outputs": [
    {
     "data": {
      "image/png": "[encoded data removed]",
      "text/plain": [
       "<Figure size 432x288 with 1 Axes>"
      ]
     },
     "metadata": {
      "needs_background": "light"
     },
     "output_type": "display_data"
    }
   ],
   "source": [
    "boxplot(df, 'Tenure')"
   ]
  },
  {
   "cell_type": "code",
   "execution_count": 96,
   "id": "39dcdc88",
   "metadata": {},
   "outputs": [
    {
     "data": {
      "image/png": "[encoded data removed]",
      "text/plain": [
       "<Figure size 432x288 with 1 Axes>"
      ]
     },
     "metadata": {
      "needs_background": "light"
     },
     "output_type": "display_data"
    }
   ],
   "source": [
    "boxplot(df, 'NumOfProducts')"
   ]
  },
  {
   "cell_type": "code",
   "execution_count": 97,
   "id": "2554ae7d",
   "metadata": {},
   "outputs": [
    {
     "data": {
      "image/png": "[encoded data removed]",
      "text/plain": [
       "<Figure size 432x288 with 1 Axes>"
      ]
     },
     "metadata": {
      "needs_background": "light"
     },
     "output_type": "display_data"
    }
   ],
   "source": [
    "boxplot(df, 'Balance')"
   ]
  },
  {
   "cell_type": "code",
   "execution_count": 98,
   "id": "54060cff",
   "metadata": {},
   "outputs": [
    {
     "data": {
      "image/png": "[encoded data removed]",
      "text/plain": [
       "<Figure size 432x288 with 1 Axes>"
      ]
     },
     "metadata": {
      "needs_background": "light"
     },
     "output_type": "display_data"
    }
   ],
   "source": [
    "boxplot(df, 'EstimatedSalary')"
   ]
  },
  {
   "cell_type": "markdown",
   "id": "9d4b1605",
   "metadata": {},
   "source": [
    "# Handling Outliers"
   ]
  },
  {
   "cell_type": "code",
   "execution_count": 324,
   "id": "ffc39b87",
   "metadata": {},
   "outputs": [
    {
     "data": {
      "text/html": [
       "<div>\n",
       "<style scoped>\n",
       "    .dataframe tbody tr th:only-of-type {\n",
       "        vertical-align: middle;\n",
       "    }\n",
       "\n",
       "    .dataframe tbody tr th {\n",
       "        vertical-align: top;\n",
       "    }\n",
       "\n",
       "    .dataframe thead th {\n",
       "        text-align: right;\n",
       "    }\n",
       "</style>\n",
       "<table border=\"1\" class=\"dataframe\">\n",
       "  <thead>\n",
       "    <tr style=\"text-align: right;\">\n",
       "      <th></th>\n",
       "      <th>CreditScore</th>\n",
       "      <th>Geography</th>\n",
       "      <th>Gender</th>\n",
       "      <th>Age</th>\n",
       "      <th>Tenure</th>\n",
       "      <th>Balance</th>\n",
       "      <th>NumOfProducts</th>\n",
       "      <th>HasCrCard</th>\n",
       "      <th>IsActiveMember</th>\n",
       "      <th>EstimatedSalary</th>\n",
       "      <th>Exited</th>\n",
       "      <th>Group_balance</th>\n",
       "      <th>Group_salary</th>\n",
       "    </tr>\n",
       "  </thead>\n",
       "  <tbody>\n",
       "    <tr>\n",
       "      <th>0</th>\n",
       "      <td>619</td>\n",
       "      <td>France</td>\n",
       "      <td>Female</td>\n",
       "      <td>42</td>\n",
       "      <td>2</td>\n",
       "      <td>0.00</td>\n",
       "      <td>1</td>\n",
       "      <td>1</td>\n",
       "      <td>1</td>\n",
       "      <td>101348.88</td>\n",
       "      <td>1</td>\n",
       "      <td>0</td>\n",
       "      <td>3</td>\n",
       "    </tr>\n",
       "    <tr>\n",
       "      <th>1</th>\n",
       "      <td>608</td>\n",
       "      <td>Spain</td>\n",
       "      <td>Female</td>\n",
       "      <td>41</td>\n",
       "      <td>1</td>\n",
       "      <td>83807.86</td>\n",
       "      <td>1</td>\n",
       "      <td>0</td>\n",
       "      <td>1</td>\n",
       "      <td>112542.58</td>\n",
       "      <td>0</td>\n",
       "      <td>2</td>\n",
       "      <td>3</td>\n",
       "    </tr>\n",
       "    <tr>\n",
       "      <th>2</th>\n",
       "      <td>502</td>\n",
       "      <td>France</td>\n",
       "      <td>Female</td>\n",
       "      <td>42</td>\n",
       "      <td>8</td>\n",
       "      <td>159660.80</td>\n",
       "      <td>3</td>\n",
       "      <td>1</td>\n",
       "      <td>0</td>\n",
       "      <td>113931.57</td>\n",
       "      <td>1</td>\n",
       "      <td>4</td>\n",
       "      <td>3</td>\n",
       "    </tr>\n",
       "    <tr>\n",
       "      <th>3</th>\n",
       "      <td>699</td>\n",
       "      <td>France</td>\n",
       "      <td>Female</td>\n",
       "      <td>39</td>\n",
       "      <td>1</td>\n",
       "      <td>0.00</td>\n",
       "      <td>2</td>\n",
       "      <td>0</td>\n",
       "      <td>0</td>\n",
       "      <td>93826.63</td>\n",
       "      <td>0</td>\n",
       "      <td>0</td>\n",
       "      <td>2</td>\n",
       "    </tr>\n",
       "    <tr>\n",
       "      <th>4</th>\n",
       "      <td>850</td>\n",
       "      <td>Spain</td>\n",
       "      <td>Female</td>\n",
       "      <td>43</td>\n",
       "      <td>2</td>\n",
       "      <td>125510.82</td>\n",
       "      <td>1</td>\n",
       "      <td>1</td>\n",
       "      <td>1</td>\n",
       "      <td>79084.10</td>\n",
       "      <td>0</td>\n",
       "      <td>3</td>\n",
       "      <td>2</td>\n",
       "    </tr>\n",
       "    <tr>\n",
       "      <th>...</th>\n",
       "      <td>...</td>\n",
       "      <td>...</td>\n",
       "      <td>...</td>\n",
       "      <td>...</td>\n",
       "      <td>...</td>\n",
       "      <td>...</td>\n",
       "      <td>...</td>\n",
       "      <td>...</td>\n",
       "      <td>...</td>\n",
       "      <td>...</td>\n",
       "      <td>...</td>\n",
       "      <td>...</td>\n",
       "      <td>...</td>\n",
       "    </tr>\n",
       "    <tr>\n",
       "      <th>9995</th>\n",
       "      <td>771</td>\n",
       "      <td>France</td>\n",
       "      <td>Male</td>\n",
       "      <td>39</td>\n",
       "      <td>5</td>\n",
       "      <td>0.00</td>\n",
       "      <td>2</td>\n",
       "      <td>1</td>\n",
       "      <td>0</td>\n",
       "      <td>96270.64</td>\n",
       "      <td>0</td>\n",
       "      <td>0</td>\n",
       "      <td>2</td>\n",
       "    </tr>\n",
       "    <tr>\n",
       "      <th>9996</th>\n",
       "      <td>516</td>\n",
       "      <td>France</td>\n",
       "      <td>Male</td>\n",
       "      <td>35</td>\n",
       "      <td>10</td>\n",
       "      <td>57369.61</td>\n",
       "      <td>1</td>\n",
       "      <td>1</td>\n",
       "      <td>1</td>\n",
       "      <td>101699.77</td>\n",
       "      <td>0</td>\n",
       "      <td>2</td>\n",
       "      <td>3</td>\n",
       "    </tr>\n",
       "    <tr>\n",
       "      <th>9997</th>\n",
       "      <td>709</td>\n",
       "      <td>France</td>\n",
       "      <td>Female</td>\n",
       "      <td>36</td>\n",
       "      <td>7</td>\n",
       "      <td>0.00</td>\n",
       "      <td>1</td>\n",
       "      <td>0</td>\n",
       "      <td>1</td>\n",
       "      <td>42085.58</td>\n",
       "      <td>1</td>\n",
       "      <td>0</td>\n",
       "      <td>1</td>\n",
       "    </tr>\n",
       "    <tr>\n",
       "      <th>9998</th>\n",
       "      <td>772</td>\n",
       "      <td>Germany</td>\n",
       "      <td>Male</td>\n",
       "      <td>42</td>\n",
       "      <td>3</td>\n",
       "      <td>75075.31</td>\n",
       "      <td>2</td>\n",
       "      <td>1</td>\n",
       "      <td>0</td>\n",
       "      <td>92888.52</td>\n",
       "      <td>1</td>\n",
       "      <td>2</td>\n",
       "      <td>2</td>\n",
       "    </tr>\n",
       "    <tr>\n",
       "      <th>9999</th>\n",
       "      <td>792</td>\n",
       "      <td>France</td>\n",
       "      <td>Female</td>\n",
       "      <td>28</td>\n",
       "      <td>4</td>\n",
       "      <td>130142.79</td>\n",
       "      <td>1</td>\n",
       "      <td>1</td>\n",
       "      <td>0</td>\n",
       "      <td>38190.78</td>\n",
       "      <td>0</td>\n",
       "      <td>3</td>\n",
       "      <td>1</td>\n",
       "    </tr>\n",
       "  </tbody>\n",
       "</table>\n",
       "<p>10000 rows × 13 columns</p>\n",
       "</div>"
      ],
      "text/plain": [
       "      CreditScore Geography  Gender  Age  Tenure    Balance  NumOfProducts  \\\n",
       "0             619    France  Female   42       2       0.00              1   \n",
       "1             608     Spain  Female   41       1   83807.86              1   \n",
       "2             502    France  Female   42       8  159660.80              3   \n",
       "3             699    France  Female   39       1       0.00              2   \n",
       "4             850     Spain  Female   43       2  125510.82              1   \n",
       "...           ...       ...     ...  ...     ...        ...            ...   \n",
       "9995          771    France    Male   39       5       0.00              2   \n",
       "9996          516    France    Male   35      10   57369.61              1   \n",
       "9997          709    France  Female   36       7       0.00              1   \n",
       "9998          772   Germany    Male   42       3   75075.31              2   \n",
       "9999          792    France  Female   28       4  130142.79              1   \n",
       "\n",
       "      HasCrCard  IsActiveMember  EstimatedSalary  Exited  Group_balance  \\\n",
       "0             1               1        101348.88       1              0   \n",
       "1             0               1        112542.58       0              2   \n",
       "2             1               0        113931.57       1              4   \n",
       "3             0               0         93826.63       0              0   \n",
       "4             1               1         79084.10       0              3   \n",
       "...         ...             ...              ...     ...            ...   \n",
       "9995          1               0         96270.64       0              0   \n",
       "9996          1               1        101699.77       0              2   \n",
       "9997          0               1         42085.58       1              0   \n",
       "9998          1               0         92888.52       1              2   \n",
       "9999          1               0         38190.78       0              3   \n",
       "\n",
       "      Group_salary  \n",
       "0                3  \n",
       "1                3  \n",
       "2                3  \n",
       "3                2  \n",
       "4                2  \n",
       "...            ...  \n",
       "9995             2  \n",
       "9996             3  \n",
       "9997             1  \n",
       "9998             2  \n",
       "9999             1  \n",
       "\n",
       "[10000 rows x 13 columns]"
      ]
     },
     "execution_count": 324,
     "metadata": {},
     "output_type": "execute_result"
    }
   ],
   "source": [
    "df_copy=df.copy()\n",
    "df_copy"
   ]
  },
  {
   "cell_type": "code",
   "execution_count": 326,
   "id": "575da7d0",
   "metadata": {},
   "outputs": [],
   "source": [
    "def outliers(df_,ft):\n",
    "    Q1=df[ft].quantile(0.25)\n",
    "    Q3=df[ft].quantile(0.75)\n",
    "    IQR = Q3-Q1\n",
    "    lower=Q1 - 1.5*IQR\n",
    "    upper=Q3 + 1.5*IQR\n",
    "    outlier = df.index[(df[ft]<lower) | (df[ft]>upper)]\n",
    "    return outlier"
   ]
  },
  {
   "cell_type": "code",
   "execution_count": 330,
   "id": "44b7426e",
   "metadata": {},
   "outputs": [],
   "source": [
    "index_list=[]\n",
    "for ft in ['CreditScore','Age','NumOfProducts']:\n",
    "    index_list.extend(outliers(df_copy, ft))"
   ]
  },
  {
   "cell_type": "code",
   "execution_count": 332,
   "id": "4f92c0ff",
   "metadata": {},
   "outputs": [
    {
     "data": {
      "text/plain": [
       "434"
      ]
     },
     "execution_count": 332,
     "metadata": {},
     "output_type": "execute_result"
    }
   ],
   "source": [
    "len(index_list)"
   ]
  },
  {
   "cell_type": "code",
   "execution_count": 339,
   "id": "4adc15fa",
   "metadata": {},
   "outputs": [],
   "source": [
    "def remove(df,ls):\n",
    "    #ls=sorted(set(ls))\n",
    "    df=df.drop(ls)\n",
    "    return df"
   ]
  },
  {
   "cell_type": "code",
   "execution_count": 340,
   "id": "88a8ab3a",
   "metadata": {},
   "outputs": [],
   "source": [
    "df_cleaned=remove(df_copy,index_list)"
   ]
  },
  {
   "cell_type": "code",
   "execution_count": 341,
   "id": "7368b4e0",
   "metadata": {},
   "outputs": [
    {
     "data": {
      "text/plain": [
       "(9568, 13)"
      ]
     },
     "execution_count": 341,
     "metadata": {},
     "output_type": "execute_result"
    }
   ],
   "source": [
    "df_cleaned.shape"
   ]
  },
  {
   "cell_type": "code",
   "execution_count": null,
   "id": "47b2fe78",
   "metadata": {},
   "outputs": [],
   "source": []
  }
 ],
 "metadata": {
  "kernelspec": {
   "display_name": "Python 3",
   "language": "python",
   "name": "python3"
  },
  "language_info": {
   "codemirror_mode": {
    "name": "ipython",
    "version": 3
   },
   "file_extension": ".py",
   "mimetype": "text/x-python",
   "name": "python",
   "nbconvert_exporter": "python",
   "pygments_lexer": "ipython3",
   "version": "3.8.8"
  }
 },
 "nbformat": 4,
 "nbformat_minor": 5
}
